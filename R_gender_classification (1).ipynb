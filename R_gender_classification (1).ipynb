{
  "nbformat": 4,
  "nbformat_minor": 0,
  "metadata": {
    "colab": {
      "name": "R_gender_classification.ipynb",
      "version": "0.3.2",
      "provenance": [],
      "collapsed_sections": []
    },
    "language_info": {
      "codemirror_mode": "r",
      "file_extension": ".r",
      "mimetype": "text/x-r-source",
      "name": "R",
      "pygments_lexer": "r",
      "version": "3.3.1"
    },
    "kernelspec": {
      "display_name": "R",
      "language": "R",
      "name": "ir"
    }
  },
  "cells": [
    {
      "cell_type": "markdown",
      "metadata": {
        "id": "JVekE4bPsrnF",
        "colab_type": "text"
      },
      "source": [
        "Code without visible output:"
      ]
    },
    {
      "cell_type": "code",
      "metadata": {
        "id": "-TSEx53Wstr4",
        "colab_type": "code",
        "outputId": "8dd32d9c-8fac-44c5-fbb9-896c7d92b146",
        "colab": {
          "base_uri": "https://localhost:8080/",
          "height": 85
        }
      },
      "source": [
        "install.packages(\"devtools\")"
      ],
      "execution_count": 0,
      "outputs": [
        {
          "output_type": "stream",
          "text": [
            "Installing package into ‘/usr/local/lib/R/site-library’\n",
            "(as ‘lib’ is unspecified)\n",
            "also installing the dependencies ‘brew’, ‘commonmark’, ‘praise’, ‘roxygen2’, ‘testthat’\n",
            "\n"
          ],
          "name": "stderr"
        }
      ]
    },
    {
      "cell_type": "code",
      "metadata": {
        "id": "RW303QHztODC",
        "colab_type": "code",
        "outputId": "730e44c2-ffb7-4804-c888-d27f8b5cf0ce",
        "colab": {
          "base_uri": "https://localhost:8080/",
          "height": 357
        }
      },
      "source": [
        "devtools::install_github(\"ropensci/gender\")"
      ],
      "execution_count": 0,
      "outputs": [
        {
          "output_type": "stream",
          "text": [
            "Downloading GitHub repo ropensci/gender@master\n"
          ],
          "name": "stderr"
        },
        {
          "output_type": "stream",
          "text": [
            "dplyr    (0.8.2  -> 0.8.3  ) [CRAN]\n",
            "openssl  (1.4    -> 1.4.1  ) [CRAN]\n",
            "pillar   (1.4.1  -> 1.4.2  ) [CRAN]\n",
            "vctrs    (0.1.0  -> 0.2.0  ) [CRAN]\n",
            "ellipsis (0.2.0  -> 0.2.0.1) [CRAN]\n",
            "digest   (0.6.19 -> 0.6.20 ) [CRAN]\n"
          ],
          "name": "stdout"
        },
        {
          "output_type": "stream",
          "text": [
            "Installing 6 packages: dplyr, openssl, pillar, vctrs, ellipsis, digest\n",
            "Installing packages into ‘/usr/local/lib/R/site-library’\n",
            "(as ‘lib’ is unspecified)\n"
          ],
          "name": "stderr"
        },
        {
          "output_type": "stream",
          "text": [
            "\u001b[32m✔\u001b[39m  \u001b[90mchecking for file ‘/tmp/RtmpgCQfQW/remotes7b550c414d/ropensci-gender-9c6a641/DESCRIPTION’\u001b[39m\u001b[36m\u001b[39m\n",
            "\u001b[90m─\u001b[39m\u001b[90m  \u001b[39m\u001b[90mpreparing ‘gender’:\u001b[39m\u001b[36m\u001b[39m\n",
            "\u001b[32m✔\u001b[39m  \u001b[90mchecking DESCRIPTION meta-information\u001b[39m\u001b[36m\u001b[39m\n",
            "\u001b[90m─\u001b[39m\u001b[90m  \u001b[39m\u001b[90mchecking for LF line-endings in source and make files and shell scripts\u001b[39m\u001b[36m\u001b[39m\n",
            "\u001b[90m─\u001b[39m\u001b[90m  \u001b[39m\u001b[90mchecking for empty or unneeded directories\u001b[39m\u001b[36m\u001b[39m\n",
            "\u001b[90m─\u001b[39m\u001b[90m  \u001b[39m\u001b[90mlooking to see if a ‘data/datalist’ file should be added\u001b[39m\u001b[36m\u001b[39m\n",
            "\u001b[90m─\u001b[39m\u001b[90m  \u001b[39m\u001b[90mbuilding ‘gender_0.5.2.tar.gz’\u001b[39m\u001b[36m\u001b[39m\n",
            "   \n"
          ],
          "name": "stdout"
        },
        {
          "output_type": "stream",
          "text": [
            "Installing package into ‘/usr/local/lib/R/site-library’\n",
            "(as ‘lib’ is unspecified)\n"
          ],
          "name": "stderr"
        }
      ]
    },
    {
      "cell_type": "code",
      "metadata": {
        "id": "Psq-D6UYtTOu",
        "colab_type": "code",
        "outputId": "ecebdb8a-7101-4992-9dca-a64a9b1b7589",
        "colab": {
          "base_uri": "https://localhost:8080/",
          "height": 51
        }
      },
      "source": [
        "install.packages(\"genderdata\", repos = \"http://packages.ropensci.org\")"
      ],
      "execution_count": 0,
      "outputs": [
        {
          "output_type": "stream",
          "text": [
            "Installing package into ‘/usr/local/lib/R/site-library’\n",
            "(as ‘lib’ is unspecified)\n"
          ],
          "name": "stderr"
        }
      ]
    },
    {
      "cell_type": "code",
      "metadata": {
        "id": "k8gGBAF9tWeA",
        "colab_type": "code",
        "outputId": "7d088678-0a7a-4471-9417-891ca2ce6d4e",
        "colab": {
          "base_uri": "https://localhost:8080/",
          "height": 51
        }
      },
      "source": [
        "install.packages(\"gender\")"
      ],
      "execution_count": 0,
      "outputs": [
        {
          "output_type": "stream",
          "text": [
            "Installing package into ‘/usr/local/lib/R/site-library’\n",
            "(as ‘lib’ is unspecified)\n"
          ],
          "name": "stderr"
        }
      ]
    },
    {
      "cell_type": "code",
      "metadata": {
        "id": "_rRfHzAftb2I",
        "colab_type": "code",
        "colab": {}
      },
      "source": [
        "library(gender)"
      ],
      "execution_count": 0,
      "outputs": []
    },
    {
      "cell_type": "code",
      "metadata": {
        "id": "6pw1l0OouUE2",
        "colab_type": "code",
        "outputId": "508dcfbc-bc29-403b-b12e-ec9db49a73c5",
        "colab": {
          "base_uri": "https://localhost:8080/",
          "height": 214
        }
      },
      "source": [
        "namesData <- read.csv(file=\"ethnicity_full.csv\", header=TRUE, sep=\",\")"
      ],
      "execution_count": 0,
      "outputs": [
        {
          "output_type": "stream",
          "text": [
            "Warning message in file(file, \"rt\"):\n",
            "“cannot open file 'ethnicity_full.csv': No such file or directory”"
          ],
          "name": "stderr"
        },
        {
          "output_type": "error",
          "ename": "ERROR",
          "evalue": "ignored",
          "traceback": [
            "Error in file(file, \"rt\"): cannot open the connection\nTraceback:\n",
            "1. read.csv(file = \"ethnicity_full.csv\", header = TRUE, sep = \",\")",
            "2. read.table(file = file, header = header, sep = sep, quote = quote, \n .     dec = dec, fill = fill, comment.char = comment.char, ...)",
            "3. file(file, \"rt\")"
          ]
        }
      ]
    },
    {
      "cell_type": "code",
      "metadata": {
        "id": "HELTZq9w2c5B",
        "colab_type": "code",
        "outputId": "21dc2799-9b35-4b0c-92b9-06ffa57d9699",
        "colab": {
          "base_uri": "https://localhost:8080/",
          "height": 385
        }
      },
      "source": [
        "colnames(namesData)"
      ],
      "execution_count": 0,
      "outputs": [
        {
          "output_type": "display_data",
          "data": {
            "text/plain": [
              " [1] \"Unnamed..0\"                           \n",
              " [2] \"LastName\"                             \n",
              " [3] \"FirstName\"                            \n",
              " [4] \"validSince\"                           \n",
              " [5] \"occupation\"                           \n",
              " [6] \"geometry\"                             \n",
              " [7] \"race\"                                 \n",
              " [8] \"Asian.GreaterEastAsian.EastAsian\"     \n",
              " [9] \"Asian.GreaterEastAsian.Japanese\"      \n",
              "[10] \"Asian.IndianSubContinent\"             \n",
              "[11] \"GreaterAfrican.Africans\"              \n",
              "[12] \"GreaterAfrican.Muslim\"                \n",
              "[13] \"GreaterEuropean.British\"              \n",
              "[14] \"GreaterEuropean.EastEuropean\"         \n",
              "[15] \"GreaterEuropean.Jewish\"               \n",
              "[16] \"GreaterEuropean.WestEuropean.French\"  \n",
              "[17] \"GreaterEuropean.WestEuropean.Germanic\"\n",
              "[18] \"GreaterEuropean.WestEuropean.Hispanic\"\n",
              "[19] \"GreaterEuropean.WestEuropean.Italian\" \n",
              "[20] \"GreaterEuropean.WestEuropean.Nordic\"  "
            ],
            "text/latex": "\\begin{enumerate*}\n\\item 'Unnamed..0'\n\\item 'LastName'\n\\item 'FirstName'\n\\item 'validSince'\n\\item 'occupation'\n\\item 'geometry'\n\\item 'race'\n\\item 'Asian.GreaterEastAsian.EastAsian'\n\\item 'Asian.GreaterEastAsian.Japanese'\n\\item 'Asian.IndianSubContinent'\n\\item 'GreaterAfrican.Africans'\n\\item 'GreaterAfrican.Muslim'\n\\item 'GreaterEuropean.British'\n\\item 'GreaterEuropean.EastEuropean'\n\\item 'GreaterEuropean.Jewish'\n\\item 'GreaterEuropean.WestEuropean.French'\n\\item 'GreaterEuropean.WestEuropean.Germanic'\n\\item 'GreaterEuropean.WestEuropean.Hispanic'\n\\item 'GreaterEuropean.WestEuropean.Italian'\n\\item 'GreaterEuropean.WestEuropean.Nordic'\n\\end{enumerate*}\n",
            "text/markdown": "1. 'Unnamed..0'\n2. 'LastName'\n3. 'FirstName'\n4. 'validSince'\n5. 'occupation'\n6. 'geometry'\n7. 'race'\n8. 'Asian.GreaterEastAsian.EastAsian'\n9. 'Asian.GreaterEastAsian.Japanese'\n10. 'Asian.IndianSubContinent'\n11. 'GreaterAfrican.Africans'\n12. 'GreaterAfrican.Muslim'\n13. 'GreaterEuropean.British'\n14. 'GreaterEuropean.EastEuropean'\n15. 'GreaterEuropean.Jewish'\n16. 'GreaterEuropean.WestEuropean.French'\n17. 'GreaterEuropean.WestEuropean.Germanic'\n18. 'GreaterEuropean.WestEuropean.Hispanic'\n19. 'GreaterEuropean.WestEuropean.Italian'\n20. 'GreaterEuropean.WestEuropean.Nordic'\n\n\n",
            "text/html": [
              "<ol class=list-inline>\n",
              "\t<li>'Unnamed..0'</li>\n",
              "\t<li>'LastName'</li>\n",
              "\t<li>'FirstName'</li>\n",
              "\t<li>'validSince'</li>\n",
              "\t<li>'occupation'</li>\n",
              "\t<li>'geometry'</li>\n",
              "\t<li>'race'</li>\n",
              "\t<li>'Asian.GreaterEastAsian.EastAsian'</li>\n",
              "\t<li>'Asian.GreaterEastAsian.Japanese'</li>\n",
              "\t<li>'Asian.IndianSubContinent'</li>\n",
              "\t<li>'GreaterAfrican.Africans'</li>\n",
              "\t<li>'GreaterAfrican.Muslim'</li>\n",
              "\t<li>'GreaterEuropean.British'</li>\n",
              "\t<li>'GreaterEuropean.EastEuropean'</li>\n",
              "\t<li>'GreaterEuropean.Jewish'</li>\n",
              "\t<li>'GreaterEuropean.WestEuropean.French'</li>\n",
              "\t<li>'GreaterEuropean.WestEuropean.Germanic'</li>\n",
              "\t<li>'GreaterEuropean.WestEuropean.Hispanic'</li>\n",
              "\t<li>'GreaterEuropean.WestEuropean.Italian'</li>\n",
              "\t<li>'GreaterEuropean.WestEuropean.Nordic'</li>\n",
              "</ol>\n"
            ]
          },
          "metadata": {
            "tags": []
          }
        }
      ]
    },
    {
      "cell_type": "code",
      "metadata": {
        "id": "tmsevrq8zuE3",
        "colab_type": "code",
        "colab": {}
      },
      "source": [
        "colnames(namesData)[3] <- \"names\""
      ],
      "execution_count": 0,
      "outputs": []
    },
    {
      "cell_type": "code",
      "metadata": {
        "id": "Qi2FE0Mo0MWf",
        "colab_type": "code",
        "colab": {}
      },
      "source": [
        "namesDf <- data.frame(lapply(namesData, as.character), stringsAsFactors=FALSE)"
      ],
      "execution_count": 0,
      "outputs": []
    },
    {
      "cell_type": "code",
      "metadata": {
        "id": "99AOaULJ0cfW",
        "colab_type": "code",
        "outputId": "c82fd4b7-4480-4dce-e1ca-18f7d36951c2",
        "colab": {
          "base_uri": "https://localhost:8080/",
          "height": 204
        }
      },
      "source": [
        "head(namesDf)"
      ],
      "execution_count": 0,
      "outputs": [
        {
          "output_type": "display_data",
          "data": {
            "text/plain": [
              "  X LastName names  validSince X..data.occupation\n",
              "1 0 nee      ae     1849                         \n",
              "2 1 Pope     James  1849       mason             \n",
              "3 2 Pope     John   1849       grocer            \n",
              "4 3 Pope     Joseph 1849       soda water        \n",
              "5 4 Pope     John   1849       (col'd) porter    \n",
              "6 5 Pope     Joshua 1849       mer               \n",
              "  geometry                                                              \n",
              "1                                                                       \n",
              "2 {\"type\":\"Point\",\"coordinates\":[-74.002769887447,40.73324395257066]}   \n",
              "3                                                                       \n",
              "4 {\"type\":\"Point\",\"coordinates\":[-73.99623423814732,40.715684403470995]}\n",
              "5                                                                       \n",
              "6 {\"type\":\"Point\",\"coordinates\":[-74.00563426315767,40.70499083357134]} \n",
              "  race                            \n",
              "1 Asian,GreaterEastAsian,EastAsian\n",
              "2 GreaterEuropean,British         \n",
              "3 GreaterEuropean,British         \n",
              "4 GreaterEuropean,British         \n",
              "5 GreaterEuropean,British         \n",
              "6 GreaterEuropean,British         "
            ],
            "text/latex": "A data.frame: 6 × 7\n\\begin{tabular}{r|lllllll}\n X & LastName & names & validSince & X..data.occupation & geometry & race\\\\\n <chr> & <chr> & <chr> & <chr> & <chr> & <chr> & <chr>\\\\\n\\hline\n\t 0 & nee  & ae     & 1849 &                &                                                                        & Asian,GreaterEastAsian,EastAsian\\\\\n\t 1 & Pope & James  & 1849 & mason          & \\{\"type\":\"Point\",\"coordinates\":{[}-74.002769887447,40.73324395257066{]}\\}    & GreaterEuropean,British         \\\\\n\t 2 & Pope & John   & 1849 & grocer         &                                                                        & GreaterEuropean,British         \\\\\n\t 3 & Pope & Joseph & 1849 & soda water     & \\{\"type\":\"Point\",\"coordinates\":{[}-73.99623423814732,40.715684403470995{]}\\} & GreaterEuropean,British         \\\\\n\t 4 & Pope & John   & 1849 & (col'd) porter &                                                                        & GreaterEuropean,British         \\\\\n\t 5 & Pope & Joshua & 1849 & mer            & \\{\"type\":\"Point\",\"coordinates\":{[}-74.00563426315767,40.70499083357134{]}\\}  & GreaterEuropean,British         \\\\\n\\end{tabular}\n",
            "text/markdown": "\nA data.frame: 6 × 7\n\n| X &lt;chr&gt; | LastName &lt;chr&gt; | names &lt;chr&gt; | validSince &lt;chr&gt; | X..data.occupation &lt;chr&gt; | geometry &lt;chr&gt; | race &lt;chr&gt; |\n|---|---|---|---|---|---|---|\n| 0 | nee  | ae     | 1849 | <!----> | <!----> | Asian,GreaterEastAsian,EastAsian |\n| 1 | Pope | James  | 1849 | mason          | {\"type\":\"Point\",\"coordinates\":[-74.002769887447,40.73324395257066]}    | GreaterEuropean,British          |\n| 2 | Pope | John   | 1849 | grocer         | <!----> | GreaterEuropean,British          |\n| 3 | Pope | Joseph | 1849 | soda water     | {\"type\":\"Point\",\"coordinates\":[-73.99623423814732,40.715684403470995]} | GreaterEuropean,British          |\n| 4 | Pope | John   | 1849 | (col'd) porter | <!----> | GreaterEuropean,British          |\n| 5 | Pope | Joshua | 1849 | mer            | {\"type\":\"Point\",\"coordinates\":[-74.00563426315767,40.70499083357134]}  | GreaterEuropean,British          |\n\n",
            "text/html": [
              "<table>\n",
              "<caption>A data.frame: 6 × 7</caption>\n",
              "<thead>\n",
              "\t<tr><th scope=col>X</th><th scope=col>LastName</th><th scope=col>names</th><th scope=col>validSince</th><th scope=col>X..data.occupation</th><th scope=col>geometry</th><th scope=col>race</th></tr>\n",
              "\t<tr><th scope=col>&lt;chr&gt;</th><th scope=col>&lt;chr&gt;</th><th scope=col>&lt;chr&gt;</th><th scope=col>&lt;chr&gt;</th><th scope=col>&lt;chr&gt;</th><th scope=col>&lt;chr&gt;</th><th scope=col>&lt;chr&gt;</th></tr>\n",
              "</thead>\n",
              "<tbody>\n",
              "\t<tr><td>0</td><td>nee </td><td>ae    </td><td>1849</td><td>              </td><td>                                                                      </td><td>Asian,GreaterEastAsian,EastAsian</td></tr>\n",
              "\t<tr><td>1</td><td>Pope</td><td>James </td><td>1849</td><td>mason         </td><td>{\"type\":\"Point\",\"coordinates\":[-74.002769887447,40.73324395257066]}   </td><td>GreaterEuropean,British         </td></tr>\n",
              "\t<tr><td>2</td><td>Pope</td><td>John  </td><td>1849</td><td>grocer        </td><td>                                                                      </td><td>GreaterEuropean,British         </td></tr>\n",
              "\t<tr><td>3</td><td>Pope</td><td>Joseph</td><td>1849</td><td>soda water    </td><td>{\"type\":\"Point\",\"coordinates\":[-73.99623423814732,40.715684403470995]}</td><td>GreaterEuropean,British         </td></tr>\n",
              "\t<tr><td>4</td><td>Pope</td><td>John  </td><td>1849</td><td>(col'd) porter</td><td>                                                                      </td><td>GreaterEuropean,British         </td></tr>\n",
              "\t<tr><td>5</td><td>Pope</td><td>Joshua</td><td>1849</td><td>mer           </td><td>{\"type\":\"Point\",\"coordinates\":[-74.00563426315767,40.70499083357134]} </td><td>GreaterEuropean,British         </td></tr>\n",
              "</tbody>\n",
              "</table>\n"
            ]
          },
          "metadata": {
            "tags": []
          }
        }
      ]
    },
    {
      "cell_type": "code",
      "metadata": {
        "id": "StGJEYJ8xMKZ",
        "colab_type": "code",
        "outputId": "e15f98d3-4cfe-4abc-d193-37f0b888658d",
        "colab": {
          "base_uri": "https://localhost:8080/",
          "height": 51
        }
      },
      "source": [
        "install.packages(\"magrittr\")"
      ],
      "execution_count": 0,
      "outputs": [
        {
          "output_type": "stream",
          "text": [
            "Installing package into ‘/usr/local/lib/R/site-library’\n",
            "(as ‘lib’ is unspecified)\n"
          ],
          "name": "stderr"
        }
      ]
    },
    {
      "cell_type": "code",
      "metadata": {
        "id": "5bsC-YWBwTT3",
        "colab_type": "code",
        "colab": {}
      },
      "source": [
        "library(magrittr)"
      ],
      "execution_count": 0,
      "outputs": []
    },
    {
      "cell_type": "code",
      "metadata": {
        "id": "YSoqw7Cx2jwC",
        "colab_type": "code",
        "colab": {}
      },
      "source": [
        "name <- c(namesDf$names)\n",
        "name<-as.character(name)"
      ],
      "execution_count": 0,
      "outputs": []
    },
    {
      "cell_type": "code",
      "metadata": {
        "id": "3gYFsn-g2479",
        "colab_type": "code",
        "outputId": "c0e09707-31a0-4c7e-8faf-8462e79b6a6a",
        "colab": {
          "base_uri": "https://localhost:8080/",
          "height": 147
        }
      },
      "source": [
        "head(name)"
      ],
      "execution_count": 0,
      "outputs": [
        {
          "output_type": "display_data",
          "data": {
            "text/plain": [
              "[1] \"Francis\" \"George\"  \"George\"  \"Henry\"   \"Henry\"   \"James\"  "
            ],
            "text/latex": "\\begin{enumerate*}\n\\item 'Francis'\n\\item 'George'\n\\item 'George'\n\\item 'Henry'\n\\item 'Henry'\n\\item 'James'\n\\end{enumerate*}\n",
            "text/markdown": "1. 'Francis'\n2. 'George'\n3. 'George'\n4. 'Henry'\n5. 'Henry'\n6. 'James'\n\n\n",
            "text/html": [
              "<ol class=list-inline>\n",
              "\t<li>'Francis'</li>\n",
              "\t<li>'George'</li>\n",
              "\t<li>'George'</li>\n",
              "\t<li>'Henry'</li>\n",
              "\t<li>'Henry'</li>\n",
              "\t<li>'James'</li>\n",
              "</ol>\n"
            ]
          },
          "metadata": {
            "tags": []
          }
        }
      ]
    },
    {
      "cell_type": "code",
      "metadata": {
        "id": "OxG2IWOIG0Hr",
        "colab_type": "code",
        "colab": {}
      },
      "source": [
        ""
      ],
      "execution_count": 0,
      "outputs": []
    },
    {
      "cell_type": "code",
      "metadata": {
        "id": "epBOkLZF3UaU",
        "colab_type": "code",
        "outputId": "a03620ec-6c97-40bd-ff43-4e2663ed9b12",
        "colab": {
          "base_uri": "https://localhost:8080/",
          "height": 34
        }
      },
      "source": [
        "length(name)"
      ],
      "execution_count": 0,
      "outputs": [
        {
          "output_type": "display_data",
          "data": {
            "text/plain": [
              "[1] 448626"
            ],
            "text/latex": "448626",
            "text/markdown": "448626",
            "text/html": [
              "448626"
            ]
          },
          "metadata": {
            "tags": []
          }
        }
      ]
    },
    {
      "cell_type": "markdown",
      "metadata": {
        "id": "CPizFaTx4Yx3",
        "colab_type": "text"
      },
      "source": [
        ""
      ]
    },
    {
      "cell_type": "code",
      "metadata": {
        "id": "xZ_fy2sBx_y7",
        "colab_type": "code",
        "colab": {}
      },
      "source": [
        "sex_ipums<-gender(name,years = c(1830,1860),method=\"ipums\")"
      ],
      "execution_count": 0,
      "outputs": []
    },
    {
      "cell_type": "code",
      "metadata": {
        "id": "ZPNXIcLQ01CY",
        "colab_type": "code",
        "outputId": "f3f77107-0567-4c2c-91f0-459ceeba4aff",
        "colab": {
          "base_uri": "https://localhost:8080/",
          "height": 204
        }
      },
      "source": [
        "tail(sex_ipums)"
      ],
      "execution_count": 0,
      "outputs": [
        {
          "output_type": "display_data",
          "data": {
            "text/plain": [
              "  name   proportion_male proportion_female gender year_min year_max\n",
              "1 zt     1.0000          0.0000            male   1830     1860    \n",
              "2 zue    0.3403          0.6597            female 1830     1860    \n",
              "3 Zulema 0.0000          1.0000            female 1830     1860    \n",
              "4 Zulina 0.0000          1.0000            female 1830     1860    \n",
              "5 Zulman 1.0000          0.0000            male   1830     1860    \n",
              "6 Zuriah 0.0000          1.0000            female 1830     1860    "
            ],
            "text/latex": "A tibble: 6 × 6\n\\begin{tabular}{r|llllll}\n name & proportion\\_male & proportion\\_female & gender & year\\_min & year\\_max\\\\\n <chr> & <dbl> & <dbl> & <chr> & <dbl> & <dbl>\\\\\n\\hline\n\t zt     & 1.0000 & 0.0000 & male   & 1830 & 1860\\\\\n\t zue    & 0.3403 & 0.6597 & female & 1830 & 1860\\\\\n\t Zulema & 0.0000 & 1.0000 & female & 1830 & 1860\\\\\n\t Zulina & 0.0000 & 1.0000 & female & 1830 & 1860\\\\\n\t Zulman & 1.0000 & 0.0000 & male   & 1830 & 1860\\\\\n\t Zuriah & 0.0000 & 1.0000 & female & 1830 & 1860\\\\\n\\end{tabular}\n",
            "text/markdown": "\nA tibble: 6 × 6\n\n| name &lt;chr&gt; | proportion_male &lt;dbl&gt; | proportion_female &lt;dbl&gt; | gender &lt;chr&gt; | year_min &lt;dbl&gt; | year_max &lt;dbl&gt; |\n|---|---|---|---|---|---|\n| zt     | 1.0000 | 0.0000 | male   | 1830 | 1860 |\n| zue    | 0.3403 | 0.6597 | female | 1830 | 1860 |\n| Zulema | 0.0000 | 1.0000 | female | 1830 | 1860 |\n| Zulina | 0.0000 | 1.0000 | female | 1830 | 1860 |\n| Zulman | 1.0000 | 0.0000 | male   | 1830 | 1860 |\n| Zuriah | 0.0000 | 1.0000 | female | 1830 | 1860 |\n\n",
            "text/html": [
              "<table>\n",
              "<caption>A tibble: 6 × 6</caption>\n",
              "<thead>\n",
              "\t<tr><th scope=col>name</th><th scope=col>proportion_male</th><th scope=col>proportion_female</th><th scope=col>gender</th><th scope=col>year_min</th><th scope=col>year_max</th></tr>\n",
              "\t<tr><th scope=col>&lt;chr&gt;</th><th scope=col>&lt;dbl&gt;</th><th scope=col>&lt;dbl&gt;</th><th scope=col>&lt;chr&gt;</th><th scope=col>&lt;dbl&gt;</th><th scope=col>&lt;dbl&gt;</th></tr>\n",
              "</thead>\n",
              "<tbody>\n",
              "\t<tr><td>zt    </td><td>1.0000</td><td>0.0000</td><td>male  </td><td>1830</td><td>1860</td></tr>\n",
              "\t<tr><td>zue   </td><td>0.3403</td><td>0.6597</td><td>female</td><td>1830</td><td>1860</td></tr>\n",
              "\t<tr><td>Zulema</td><td>0.0000</td><td>1.0000</td><td>female</td><td>1830</td><td>1860</td></tr>\n",
              "\t<tr><td>Zulina</td><td>0.0000</td><td>1.0000</td><td>female</td><td>1830</td><td>1860</td></tr>\n",
              "\t<tr><td>Zulman</td><td>1.0000</td><td>0.0000</td><td>male  </td><td>1830</td><td>1860</td></tr>\n",
              "\t<tr><td>Zuriah</td><td>0.0000</td><td>1.0000</td><td>female</td><td>1830</td><td>1860</td></tr>\n",
              "</tbody>\n",
              "</table>\n"
            ]
          },
          "metadata": {
            "tags": []
          }
        }
      ]
    },
    {
      "cell_type": "code",
      "metadata": {
        "id": "cKqEVLi_2C5v",
        "colab_type": "code",
        "colab": {}
      },
      "source": [
        "write.csv(sex_ipums,file='ethnicity_full_gender.csv')"
      ],
      "execution_count": 0,
      "outputs": []
    },
    {
      "cell_type": "code",
      "metadata": {
        "id": "dpt-IUvQ6aBR",
        "colab_type": "code",
        "colab": {}
      },
      "source": [
        "https://ropensci.org/tutorials/gender_tutorial/\n",
        "Procedure:\n",
        "1.Read in the values for 1850s decade\n",
        "2. Etract the names\n",
        "3. Clean the names to remove single/doube characters, special symbols etc\n",
        "4. Extract first name\n",
        "5. based on year of validity estimate date of birth to be around 1800-1825\n",
        "6. Use ipums data in R package to calculate gender probability\n",
        "7. Assign gender with high probabiity as the correct gender.\n",
        "8. Perform analysis based on this result.\n"
      ],
      "execution_count": 0,
      "outputs": []
    }
  ]
}