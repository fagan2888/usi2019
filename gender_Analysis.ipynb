{
 "cells": [
  {
   "cell_type": "code",
   "execution_count": 1,
   "metadata": {},
   "outputs": [
    {
     "name": "stdout",
     "output_type": "stream",
     "text": [
      "Populating the interactive namespace from numpy and matplotlib\n"
     ]
    }
   ],
   "source": [
    "import pandas as pd\n",
    "import matplotlib.pyplot as plt\n",
    "%pylab inline\n",
    "from shapely.geometry import Point\n",
    "from fiona.crs import from_epsg\n",
    "import geopandas as gpd\n",
    "import pysal as ps\n",
    "import re"
   ]
  },
  {
   "cell_type": "code",
   "execution_count": 2,
   "metadata": {},
   "outputs": [],
   "source": [
    "eth_df = pd.read_csv('ethnicity_full.csv')"
   ]
  },
  {
   "cell_type": "code",
   "execution_count": 3,
   "metadata": {},
   "outputs": [],
   "source": [
    "gender_names = pd.read_csv('ethnicity_full_gender.csv')"
   ]
  },
  {
   "cell_type": "code",
   "execution_count": 4,
   "metadata": {},
   "outputs": [
    {
     "name": "stderr",
     "output_type": "stream",
     "text": [
      "/usr/local/Anaconda3-5.0.0-Linux-x86_64/envs/PUI2016_Python3/lib/python3.5/site-packages/ipykernel/__main__.py:4: UserWarning: This pattern has match groups. To actually get the groups, use str.extract.\n"
     ]
    }
   ],
   "source": [
    "garbage_names = ['---', '?','.','??ry', '?E' , '?i', '*', '%', '=','.','A']\n",
    "pat = '|'.join(['({})'.format(re.escape(c)) for c in garbage_names])\n",
    "\n",
    "clean_names_df = gender_names[~gender_names['name'].str.contains(pat)]"
   ]
  },
  {
   "cell_type": "code",
   "execution_count": 5,
   "metadata": {},
   "outputs": [
    {
     "name": "stderr",
     "output_type": "stream",
     "text": [
      "/usr/local/Anaconda3-5.0.0-Linux-x86_64/envs/PUI2016_Python3/lib/python3.5/site-packages/ipykernel/__main__.py:1: SettingWithCopyWarning: \n",
      "A value is trying to be set on a copy of a slice from a DataFrame.\n",
      "Try using .loc[row_indexer,col_indexer] = value instead\n",
      "\n",
      "See the caveats in the documentation: http://pandas.pydata.org/pandas-docs/stable/indexing.html#indexing-view-versus-copy\n",
      "  if __name__ == '__main__':\n"
     ]
    }
   ],
   "source": [
    "clean_names_df['FirstName_clean'] = clean_names_df['name'].astype('str').map(lambda x: re.sub('[^a-zA-Z]+', '', x))"
   ]
  },
  {
   "cell_type": "code",
   "execution_count": 6,
   "metadata": {},
   "outputs": [
    {
     "data": {
      "text/html": [
       "<div>\n",
       "<table border=\"1\" class=\"dataframe\">\n",
       "  <thead>\n",
       "    <tr style=\"text-align: right;\">\n",
       "      <th></th>\n",
       "      <th>Unnamed: 0</th>\n",
       "      <th>name</th>\n",
       "      <th>proportion_male</th>\n",
       "      <th>proportion_female</th>\n",
       "      <th>gender</th>\n",
       "      <th>year_min</th>\n",
       "      <th>year_max</th>\n",
       "      <th>FirstName_clean</th>\n",
       "    </tr>\n",
       "  </thead>\n",
       "  <tbody>\n",
       "    <tr>\n",
       "      <th>13038</th>\n",
       "      <td>13039</td>\n",
       "      <td>'George</td>\n",
       "      <td>1.0</td>\n",
       "      <td>0.0</td>\n",
       "      <td>male</td>\n",
       "      <td>1830</td>\n",
       "      <td>1860</td>\n",
       "      <td>George</td>\n",
       "    </tr>\n",
       "    <tr>\n",
       "      <th>13039</th>\n",
       "      <td>13040</td>\n",
       "      <td>'George</td>\n",
       "      <td>1.0</td>\n",
       "      <td>0.0</td>\n",
       "      <td>male</td>\n",
       "      <td>1830</td>\n",
       "      <td>1860</td>\n",
       "      <td>George</td>\n",
       "    </tr>\n",
       "    <tr>\n",
       "      <th>13040</th>\n",
       "      <td>13041</td>\n",
       "      <td>'George</td>\n",
       "      <td>1.0</td>\n",
       "      <td>0.0</td>\n",
       "      <td>male</td>\n",
       "      <td>1830</td>\n",
       "      <td>1860</td>\n",
       "      <td>George</td>\n",
       "    </tr>\n",
       "    <tr>\n",
       "      <th>13041</th>\n",
       "      <td>13042</td>\n",
       "      <td>'George</td>\n",
       "      <td>1.0</td>\n",
       "      <td>0.0</td>\n",
       "      <td>male</td>\n",
       "      <td>1830</td>\n",
       "      <td>1860</td>\n",
       "      <td>George</td>\n",
       "    </tr>\n",
       "    <tr>\n",
       "      <th>13042</th>\n",
       "      <td>13043</td>\n",
       "      <td>'George</td>\n",
       "      <td>1.0</td>\n",
       "      <td>0.0</td>\n",
       "      <td>male</td>\n",
       "      <td>1830</td>\n",
       "      <td>1860</td>\n",
       "      <td>George</td>\n",
       "    </tr>\n",
       "  </tbody>\n",
       "</table>\n",
       "</div>"
      ],
      "text/plain": [
       "       Unnamed: 0     name  proportion_male  proportion_female gender  \\\n",
       "13038       13039  'George              1.0                0.0   male   \n",
       "13039       13040  'George              1.0                0.0   male   \n",
       "13040       13041  'George              1.0                0.0   male   \n",
       "13041       13042  'George              1.0                0.0   male   \n",
       "13042       13043  'George              1.0                0.0   male   \n",
       "\n",
       "       year_min  year_max FirstName_clean  \n",
       "13038      1830      1860          George  \n",
       "13039      1830      1860          George  \n",
       "13040      1830      1860          George  \n",
       "13041      1830      1860          George  \n",
       "13042      1830      1860          George  "
      ]
     },
     "execution_count": 6,
     "metadata": {},
     "output_type": "execute_result"
    }
   ],
   "source": [
    "clean_names_df.head()"
   ]
  },
  {
   "cell_type": "code",
   "execution_count": 7,
   "metadata": {},
   "outputs": [
    {
     "name": "stderr",
     "output_type": "stream",
     "text": [
      "/usr/local/Anaconda3-5.0.0-Linux-x86_64/envs/PUI2016_Python3/lib/python3.5/site-packages/ipykernel/__main__.py:1: SettingWithCopyWarning: \n",
      "A value is trying to be set on a copy of a slice from a DataFrame.\n",
      "Try using .loc[row_indexer,col_indexer] = value instead\n",
      "\n",
      "See the caveats in the documentation: http://pandas.pydata.org/pandas-docs/stable/indexing.html#indexing-view-versus-copy\n",
      "  if __name__ == '__main__':\n"
     ]
    }
   ],
   "source": [
    "clean_names_df['name_len'] = clean_names_df['FirstName_clean'].map(lambda x: len(x))"
   ]
  },
  {
   "cell_type": "code",
   "execution_count": 8,
   "metadata": {},
   "outputs": [],
   "source": [
    "clean_names_df_gender = clean_names_df[clean_names_df['name_len'] >= 3][['FirstName_clean','gender']]"
   ]
  },
  {
   "cell_type": "code",
   "execution_count": 9,
   "metadata": {},
   "outputs": [
    {
     "data": {
      "text/html": [
       "<div>\n",
       "<table border=\"1\" class=\"dataframe\">\n",
       "  <thead>\n",
       "    <tr style=\"text-align: right;\">\n",
       "      <th></th>\n",
       "      <th>Unnamed: 0</th>\n",
       "      <th>LastName</th>\n",
       "      <th>FirstName</th>\n",
       "      <th>validSince</th>\n",
       "      <th>$.data.occupation</th>\n",
       "      <th>geometry</th>\n",
       "      <th>race</th>\n",
       "    </tr>\n",
       "  </thead>\n",
       "  <tbody>\n",
       "    <tr>\n",
       "      <th>0</th>\n",
       "      <td>0</td>\n",
       "      <td>nee</td>\n",
       "      <td>ae</td>\n",
       "      <td>1849</td>\n",
       "      <td>NaN</td>\n",
       "      <td>NaN</td>\n",
       "      <td>Asian,GreaterEastAsian,EastAsian</td>\n",
       "    </tr>\n",
       "    <tr>\n",
       "      <th>1</th>\n",
       "      <td>1</td>\n",
       "      <td>Pope</td>\n",
       "      <td>James</td>\n",
       "      <td>1849</td>\n",
       "      <td>mason</td>\n",
       "      <td>{\"type\":\"Point\",\"coordinates\":[-74.00276988744...</td>\n",
       "      <td>GreaterEuropean,British</td>\n",
       "    </tr>\n",
       "    <tr>\n",
       "      <th>2</th>\n",
       "      <td>2</td>\n",
       "      <td>Pope</td>\n",
       "      <td>John</td>\n",
       "      <td>1849</td>\n",
       "      <td>grocer</td>\n",
       "      <td>NaN</td>\n",
       "      <td>GreaterEuropean,British</td>\n",
       "    </tr>\n",
       "    <tr>\n",
       "      <th>3</th>\n",
       "      <td>3</td>\n",
       "      <td>Pope</td>\n",
       "      <td>Joseph</td>\n",
       "      <td>1849</td>\n",
       "      <td>soda water</td>\n",
       "      <td>{\"type\":\"Point\",\"coordinates\":[-73.99623423814...</td>\n",
       "      <td>GreaterEuropean,British</td>\n",
       "    </tr>\n",
       "    <tr>\n",
       "      <th>4</th>\n",
       "      <td>4</td>\n",
       "      <td>Pope</td>\n",
       "      <td>John</td>\n",
       "      <td>1849</td>\n",
       "      <td>(col'd) porter</td>\n",
       "      <td>NaN</td>\n",
       "      <td>GreaterEuropean,British</td>\n",
       "    </tr>\n",
       "  </tbody>\n",
       "</table>\n",
       "</div>"
      ],
      "text/plain": [
       "   Unnamed: 0 LastName FirstName  validSince $.data.occupation  \\\n",
       "0           0      nee        ae        1849               NaN   \n",
       "1           1     Pope     James        1849             mason   \n",
       "2           2     Pope      John        1849            grocer   \n",
       "3           3     Pope    Joseph        1849        soda water   \n",
       "4           4     Pope      John        1849    (col'd) porter   \n",
       "\n",
       "                                            geometry  \\\n",
       "0                                                NaN   \n",
       "1  {\"type\":\"Point\",\"coordinates\":[-74.00276988744...   \n",
       "2                                                NaN   \n",
       "3  {\"type\":\"Point\",\"coordinates\":[-73.99623423814...   \n",
       "4                                                NaN   \n",
       "\n",
       "                               race  \n",
       "0  Asian,GreaterEastAsian,EastAsian  \n",
       "1           GreaterEuropean,British  \n",
       "2           GreaterEuropean,British  \n",
       "3           GreaterEuropean,British  \n",
       "4           GreaterEuropean,British  "
      ]
     },
     "execution_count": 9,
     "metadata": {},
     "output_type": "execute_result"
    }
   ],
   "source": [
    "eth_df.head()"
   ]
  },
  {
   "cell_type": "code",
   "execution_count": 10,
   "metadata": {},
   "outputs": [
    {
     "name": "stderr",
     "output_type": "stream",
     "text": [
      "/usr/local/Anaconda3-5.0.0-Linux-x86_64/envs/PUI2016_Python3/lib/python3.5/site-packages/pandas/core/frame.py:2754: SettingWithCopyWarning: \n",
      "A value is trying to be set on a copy of a slice from a DataFrame\n",
      "\n",
      "See the caveats in the documentation: http://pandas.pydata.org/pandas-docs/stable/indexing.html#indexing-view-versus-copy\n",
      "  **kwargs)\n"
     ]
    }
   ],
   "source": [
    "names_eth = eth_df[['FirstName', 'validSince', '$.data.occupation', 'race']]\n",
    "names_eth.rename(columns = {'$.data.occupation' : 'occupation'}, inplace = True)"
   ]
  },
  {
   "cell_type": "code",
   "execution_count": 11,
   "metadata": {},
   "outputs": [
    {
     "name": "stderr",
     "output_type": "stream",
     "text": [
      "/usr/local/Anaconda3-5.0.0-Linux-x86_64/envs/PUI2016_Python3/lib/python3.5/site-packages/ipykernel/__main__.py:4: SettingWithCopyWarning: \n",
      "A value is trying to be set on a copy of a slice from a DataFrame.\n",
      "Try using .loc[row_indexer,col_indexer] = value instead\n",
      "\n",
      "See the caveats in the documentation: http://pandas.pydata.org/pandas-docs/stable/indexing.html#indexing-view-versus-copy\n"
     ]
    }
   ],
   "source": [
    "#filter out null names\n",
    "#filter out names with lenght <=2\n",
    "\n",
    "names_eth['fname_clean'] = names_eth['FirstName'].astype('str').map(lambda x: re.sub('[^a-zA-Z]+', '', x))\n",
    "filter_null =  names_eth[names_eth['fname_clean'] != '']"
   ]
  },
  {
   "cell_type": "code",
   "execution_count": 12,
   "metadata": {},
   "outputs": [
    {
     "name": "stderr",
     "output_type": "stream",
     "text": [
      "/usr/local/Anaconda3-5.0.0-Linux-x86_64/envs/PUI2016_Python3/lib/python3.5/site-packages/ipykernel/__main__.py:1: SettingWithCopyWarning: \n",
      "A value is trying to be set on a copy of a slice from a DataFrame.\n",
      "Try using .loc[row_indexer,col_indexer] = value instead\n",
      "\n",
      "See the caveats in the documentation: http://pandas.pydata.org/pandas-docs/stable/indexing.html#indexing-view-versus-copy\n",
      "  if __name__ == '__main__':\n"
     ]
    }
   ],
   "source": [
    "filter_null['name_len'] = filter_null['fname_clean'].map(lambda x: len(x))"
   ]
  },
  {
   "cell_type": "code",
   "execution_count": 13,
   "metadata": {},
   "outputs": [],
   "source": [
    "names_ethnicity = filter_null[filter_null['name_len'] >= 3]"
   ]
  },
  {
   "cell_type": "code",
   "execution_count": 14,
   "metadata": {},
   "outputs": [
    {
     "data": {
      "text/html": [
       "<div>\n",
       "<table border=\"1\" class=\"dataframe\">\n",
       "  <thead>\n",
       "    <tr style=\"text-align: right;\">\n",
       "      <th></th>\n",
       "      <th>FirstName</th>\n",
       "      <th>validSince</th>\n",
       "      <th>occupation</th>\n",
       "      <th>race</th>\n",
       "      <th>fname_clean</th>\n",
       "      <th>name_len</th>\n",
       "    </tr>\n",
       "  </thead>\n",
       "  <tbody>\n",
       "    <tr>\n",
       "      <th>1</th>\n",
       "      <td>James</td>\n",
       "      <td>1849</td>\n",
       "      <td>mason</td>\n",
       "      <td>GreaterEuropean,British</td>\n",
       "      <td>James</td>\n",
       "      <td>5</td>\n",
       "    </tr>\n",
       "    <tr>\n",
       "      <th>2</th>\n",
       "      <td>John</td>\n",
       "      <td>1849</td>\n",
       "      <td>grocer</td>\n",
       "      <td>GreaterEuropean,British</td>\n",
       "      <td>John</td>\n",
       "      <td>4</td>\n",
       "    </tr>\n",
       "    <tr>\n",
       "      <th>3</th>\n",
       "      <td>Joseph</td>\n",
       "      <td>1849</td>\n",
       "      <td>soda water</td>\n",
       "      <td>GreaterEuropean,British</td>\n",
       "      <td>Joseph</td>\n",
       "      <td>6</td>\n",
       "    </tr>\n",
       "    <tr>\n",
       "      <th>4</th>\n",
       "      <td>John</td>\n",
       "      <td>1849</td>\n",
       "      <td>(col'd) porter</td>\n",
       "      <td>GreaterEuropean,British</td>\n",
       "      <td>John</td>\n",
       "      <td>4</td>\n",
       "    </tr>\n",
       "    <tr>\n",
       "      <th>5</th>\n",
       "      <td>Joshua</td>\n",
       "      <td>1849</td>\n",
       "      <td>mer</td>\n",
       "      <td>GreaterEuropean,British</td>\n",
       "      <td>Joshua</td>\n",
       "      <td>6</td>\n",
       "    </tr>\n",
       "  </tbody>\n",
       "</table>\n",
       "</div>"
      ],
      "text/plain": [
       "  FirstName  validSince      occupation                     race fname_clean  \\\n",
       "1     James        1849           mason  GreaterEuropean,British       James   \n",
       "2      John        1849          grocer  GreaterEuropean,British        John   \n",
       "3    Joseph        1849      soda water  GreaterEuropean,British      Joseph   \n",
       "4      John        1849  (col'd) porter  GreaterEuropean,British        John   \n",
       "5    Joshua        1849             mer  GreaterEuropean,British      Joshua   \n",
       "\n",
       "   name_len  \n",
       "1         5  \n",
       "2         4  \n",
       "3         6  \n",
       "4         4  \n",
       "5         6  "
      ]
     },
     "execution_count": 14,
     "metadata": {},
     "output_type": "execute_result"
    }
   ],
   "source": [
    "names_ethnicity.head()"
   ]
  },
  {
   "cell_type": "code",
   "execution_count": 15,
   "metadata": {},
   "outputs": [
    {
     "data": {
      "text/html": [
       "<div>\n",
       "<table border=\"1\" class=\"dataframe\">\n",
       "  <thead>\n",
       "    <tr style=\"text-align: right;\">\n",
       "      <th></th>\n",
       "      <th>FirstName_clean</th>\n",
       "      <th>gender</th>\n",
       "    </tr>\n",
       "  </thead>\n",
       "  <tbody>\n",
       "    <tr>\n",
       "      <th>13038</th>\n",
       "      <td>George</td>\n",
       "      <td>male</td>\n",
       "    </tr>\n",
       "    <tr>\n",
       "      <th>13039</th>\n",
       "      <td>George</td>\n",
       "      <td>male</td>\n",
       "    </tr>\n",
       "    <tr>\n",
       "      <th>13040</th>\n",
       "      <td>George</td>\n",
       "      <td>male</td>\n",
       "    </tr>\n",
       "    <tr>\n",
       "      <th>13041</th>\n",
       "      <td>George</td>\n",
       "      <td>male</td>\n",
       "    </tr>\n",
       "    <tr>\n",
       "      <th>13042</th>\n",
       "      <td>George</td>\n",
       "      <td>male</td>\n",
       "    </tr>\n",
       "  </tbody>\n",
       "</table>\n",
       "</div>"
      ],
      "text/plain": [
       "      FirstName_clean gender\n",
       "13038          George   male\n",
       "13039          George   male\n",
       "13040          George   male\n",
       "13041          George   male\n",
       "13042          George   male"
      ]
     },
     "execution_count": 15,
     "metadata": {},
     "output_type": "execute_result"
    }
   ],
   "source": [
    "clean_names_df_gender.head()"
   ]
  },
  {
   "cell_type": "code",
   "execution_count": 16,
   "metadata": {},
   "outputs": [],
   "source": [
    "males = clean_names_df_gender[clean_names_df_gender['gender'] == 'male']\n",
    "females = clean_names_df_gender[clean_names_df_gender['gender'] == 'female']\n"
   ]
  },
  {
   "cell_type": "code",
   "execution_count": 17,
   "metadata": {},
   "outputs": [
    {
     "name": "stderr",
     "output_type": "stream",
     "text": [
      "/usr/local/Anaconda3-5.0.0-Linux-x86_64/envs/PUI2016_Python3/lib/python3.5/site-packages/ipykernel/__main__.py:1: SettingWithCopyWarning: \n",
      "A value is trying to be set on a copy of a slice from a DataFrame.\n",
      "Try using .loc[row_indexer,col_indexer] = value instead\n",
      "\n",
      "See the caveats in the documentation: http://pandas.pydata.org/pandas-docs/stable/indexing.html#indexing-view-versus-copy\n",
      "  if __name__ == '__main__':\n",
      "/usr/local/Anaconda3-5.0.0-Linux-x86_64/envs/PUI2016_Python3/lib/python3.5/site-packages/ipykernel/__main__.py:2: SettingWithCopyWarning: \n",
      "A value is trying to be set on a copy of a slice from a DataFrame.\n",
      "Try using .loc[row_indexer,col_indexer] = value instead\n",
      "\n",
      "See the caveats in the documentation: http://pandas.pydata.org/pandas-docs/stable/indexing.html#indexing-view-versus-copy\n",
      "  from ipykernel import kernelapp as app\n"
     ]
    }
   ],
   "source": [
    "males['FirstName_clean'] = males['FirstName_clean'].astype('str').map(lambda x : x.lower())\n",
    "females['FirstName_clean'] = females['FirstName_clean'].astype('str').map(lambda x : x.lower())"
   ]
  },
  {
   "cell_type": "code",
   "execution_count": 18,
   "metadata": {},
   "outputs": [],
   "source": [
    "males_list = males['FirstName_clean'].unique().tolist()\n",
    "females_list = females['FirstName_clean'].unique().tolist()"
   ]
  },
  {
   "cell_type": "code",
   "execution_count": 19,
   "metadata": {},
   "outputs": [],
   "source": [
    "female_dict = {k: \"female\" for k in females_list}\n",
    "male_dict = {k: \"male\" for k in males_list}"
   ]
  },
  {
   "cell_type": "code",
   "execution_count": 20,
   "metadata": {},
   "outputs": [],
   "source": [
    "male_dict.update(female_dict)"
   ]
  },
  {
   "cell_type": "code",
   "execution_count": 21,
   "metadata": {},
   "outputs": [
    {
     "name": "stderr",
     "output_type": "stream",
     "text": [
      "/usr/local/Anaconda3-5.0.0-Linux-x86_64/envs/PUI2016_Python3/lib/python3.5/site-packages/ipykernel/__main__.py:1: SettingWithCopyWarning: \n",
      "A value is trying to be set on a copy of a slice from a DataFrame.\n",
      "Try using .loc[row_indexer,col_indexer] = value instead\n",
      "\n",
      "See the caveats in the documentation: http://pandas.pydata.org/pandas-docs/stable/indexing.html#indexing-view-versus-copy\n",
      "  if __name__ == '__main__':\n"
     ]
    }
   ],
   "source": [
    "names_ethnicity['gender'] = names_ethnicity['fname_clean'].astype('str').map(lambda x: male_dict[x.lower()] if x.lower() in male_dict.keys() else \"unknown\")"
   ]
  },
  {
   "cell_type": "code",
   "execution_count": 22,
   "metadata": {},
   "outputs": [
    {
     "data": {
      "text/html": [
       "<div>\n",
       "<table border=\"1\" class=\"dataframe\">\n",
       "  <thead>\n",
       "    <tr style=\"text-align: right;\">\n",
       "      <th></th>\n",
       "      <th>FirstName</th>\n",
       "      <th>validSince</th>\n",
       "      <th>occupation</th>\n",
       "      <th>race</th>\n",
       "      <th>fname_clean</th>\n",
       "      <th>name_len</th>\n",
       "      <th>gender</th>\n",
       "    </tr>\n",
       "  </thead>\n",
       "  <tbody>\n",
       "    <tr>\n",
       "      <th>1</th>\n",
       "      <td>James</td>\n",
       "      <td>1849</td>\n",
       "      <td>mason</td>\n",
       "      <td>GreaterEuropean,British</td>\n",
       "      <td>James</td>\n",
       "      <td>5</td>\n",
       "      <td>male</td>\n",
       "    </tr>\n",
       "    <tr>\n",
       "      <th>2</th>\n",
       "      <td>John</td>\n",
       "      <td>1849</td>\n",
       "      <td>grocer</td>\n",
       "      <td>GreaterEuropean,British</td>\n",
       "      <td>John</td>\n",
       "      <td>4</td>\n",
       "      <td>male</td>\n",
       "    </tr>\n",
       "    <tr>\n",
       "      <th>3</th>\n",
       "      <td>Joseph</td>\n",
       "      <td>1849</td>\n",
       "      <td>soda water</td>\n",
       "      <td>GreaterEuropean,British</td>\n",
       "      <td>Joseph</td>\n",
       "      <td>6</td>\n",
       "      <td>male</td>\n",
       "    </tr>\n",
       "    <tr>\n",
       "      <th>4</th>\n",
       "      <td>John</td>\n",
       "      <td>1849</td>\n",
       "      <td>(col'd) porter</td>\n",
       "      <td>GreaterEuropean,British</td>\n",
       "      <td>John</td>\n",
       "      <td>4</td>\n",
       "      <td>male</td>\n",
       "    </tr>\n",
       "    <tr>\n",
       "      <th>5</th>\n",
       "      <td>Joshua</td>\n",
       "      <td>1849</td>\n",
       "      <td>mer</td>\n",
       "      <td>GreaterEuropean,British</td>\n",
       "      <td>Joshua</td>\n",
       "      <td>6</td>\n",
       "      <td>male</td>\n",
       "    </tr>\n",
       "  </tbody>\n",
       "</table>\n",
       "</div>"
      ],
      "text/plain": [
       "  FirstName  validSince      occupation                     race fname_clean  \\\n",
       "1     James        1849           mason  GreaterEuropean,British       James   \n",
       "2      John        1849          grocer  GreaterEuropean,British        John   \n",
       "3    Joseph        1849      soda water  GreaterEuropean,British      Joseph   \n",
       "4      John        1849  (col'd) porter  GreaterEuropean,British        John   \n",
       "5    Joshua        1849             mer  GreaterEuropean,British      Joshua   \n",
       "\n",
       "   name_len gender  \n",
       "1         5   male  \n",
       "2         4   male  \n",
       "3         6   male  \n",
       "4         4   male  \n",
       "5         6   male  "
      ]
     },
     "execution_count": 22,
     "metadata": {},
     "output_type": "execute_result"
    }
   ],
   "source": [
    "names_ethnicity.head()"
   ]
  },
  {
   "cell_type": "code",
   "execution_count": 23,
   "metadata": {},
   "outputs": [],
   "source": [
    "females_eth = names_ethnicity[names_ethnicity['gender'] == 'female']"
   ]
  },
  {
   "cell_type": "code",
   "execution_count": 24,
   "metadata": {},
   "outputs": [
    {
     "name": "stderr",
     "output_type": "stream",
     "text": [
      "/usr/local/Anaconda3-5.0.0-Linux-x86_64/envs/PUI2016_Python3/lib/python3.5/site-packages/ipykernel/__main__.py:1: SettingWithCopyWarning: \n",
      "A value is trying to be set on a copy of a slice from a DataFrame\n",
      "\n",
      "See the caveats in the documentation: http://pandas.pydata.org/pandas-docs/stable/indexing.html#indexing-view-versus-copy\n",
      "  if __name__ == '__main__':\n"
     ]
    }
   ],
   "source": [
    "females_eth.dropna(inplace=True)"
   ]
  },
  {
   "cell_type": "code",
   "execution_count": 25,
   "metadata": {},
   "outputs": [
    {
     "name": "stderr",
     "output_type": "stream",
     "text": [
      "/usr/local/Anaconda3-5.0.0-Linux-x86_64/envs/PUI2016_Python3/lib/python3.5/site-packages/ipykernel/__main__.py:2: SettingWithCopyWarning: \n",
      "A value is trying to be set on a copy of a slice from a DataFrame.\n",
      "Try using .loc[row_indexer,col_indexer] = value instead\n",
      "\n",
      "See the caveats in the documentation: http://pandas.pydata.org/pandas-docs/stable/indexing.html#indexing-view-versus-copy\n",
      "  from ipykernel import kernelapp as app\n"
     ]
    }
   ],
   "source": [
    "females_nonwid = females_eth[~females_eth ['occupation'].str.contains(\"wid\")]\n",
    "females_nonwid['occ_clean'] = females_nonwid['occupation'].astype('str').map(lambda x: re.sub('[^a-zA-Z]+', '', x))"
   ]
  },
  {
   "cell_type": "code",
   "execution_count": 26,
   "metadata": {},
   "outputs": [
    {
     "name": "stderr",
     "output_type": "stream",
     "text": [
      "/usr/local/Anaconda3-5.0.0-Linux-x86_64/envs/PUI2016_Python3/lib/python3.5/site-packages/ipykernel/__main__.py:1: SettingWithCopyWarning: \n",
      "A value is trying to be set on a copy of a slice from a DataFrame.\n",
      "Try using .loc[row_indexer,col_indexer] = value instead\n",
      "\n",
      "See the caveats in the documentation: http://pandas.pydata.org/pandas-docs/stable/indexing.html#indexing-view-versus-copy\n",
      "  if __name__ == '__main__':\n",
      "/usr/local/Anaconda3-5.0.0-Linux-x86_64/envs/PUI2016_Python3/lib/python3.5/site-packages/ipykernel/__main__.py:2: SettingWithCopyWarning: \n",
      "A value is trying to be set on a copy of a slice from a DataFrame.\n",
      "Try using .loc[row_indexer,col_indexer] = value instead\n",
      "\n",
      "See the caveats in the documentation: http://pandas.pydata.org/pandas-docs/stable/indexing.html#indexing-view-versus-copy\n",
      "  from ipykernel import kernelapp as app\n"
     ]
    }
   ],
   "source": [
    "females_nonwid['occ_clean'] = females_nonwid['occ_clean'].str.replace('dressmkr', 'dressmaker')\n",
    "females_nonwid['occ_clean'] = females_nonwid['occ_clean'].str.replace('bdgh', 'boardinghouse')\n"
   ]
  },
  {
   "cell_type": "code",
   "execution_count": 103,
   "metadata": {},
   "outputs": [
    {
     "name": "stderr",
     "output_type": "stream",
     "text": [
      "/usr/local/Anaconda3-5.0.0-Linux-x86_64/envs/PUI2016_Python3/lib/python3.5/site-packages/ipykernel/__main__.py:1: SettingWithCopyWarning: \n",
      "A value is trying to be set on a copy of a slice from a DataFrame.\n",
      "Try using .loc[row_indexer,col_indexer] = value instead\n",
      "\n",
      "See the caveats in the documentation: http://pandas.pydata.org/pandas-docs/stable/indexing.html#indexing-view-versus-copy\n",
      "  if __name__ == '__main__':\n",
      "/usr/local/Anaconda3-5.0.0-Linux-x86_64/envs/PUI2016_Python3/lib/python3.5/site-packages/ipykernel/__main__.py:2: SettingWithCopyWarning: \n",
      "A value is trying to be set on a copy of a slice from a DataFrame.\n",
      "Try using .loc[row_indexer,col_indexer] = value instead\n",
      "\n",
      "See the caveats in the documentation: http://pandas.pydata.org/pandas-docs/stable/indexing.html#indexing-view-versus-copy\n",
      "  from ipykernel import kernelapp as app\n"
     ]
    }
   ],
   "source": [
    "females_nonwid['occ_clean'] = females_nonwid['occ_clean'].str.replace('bagh', 'boardinghouse')\n",
    "females_nonwid['occ_clean'] = females_nonwid['occ_clean'].str.replace('boardingh', 'boardinghouse')"
   ]
  },
  {
   "cell_type": "code",
   "execution_count": 106,
   "metadata": {},
   "outputs": [
    {
     "name": "stderr",
     "output_type": "stream",
     "text": [
      "/usr/local/Anaconda3-5.0.0-Linux-x86_64/envs/PUI2016_Python3/lib/python3.5/site-packages/ipykernel/__main__.py:1: SettingWithCopyWarning: \n",
      "A value is trying to be set on a copy of a slice from a DataFrame.\n",
      "Try using .loc[row_indexer,col_indexer] = value instead\n",
      "\n",
      "See the caveats in the documentation: http://pandas.pydata.org/pandas-docs/stable/indexing.html#indexing-view-versus-copy\n",
      "  if __name__ == '__main__':\n"
     ]
    }
   ],
   "source": [
    "females_nonwid['occ_clean'] = females_nonwid['occ_clean'].str.replace('boardinghouseouse', 'boardinghouse')"
   ]
  },
  {
   "cell_type": "code",
   "execution_count": 28,
   "metadata": {},
   "outputs": [
    {
     "data": {
      "text/plain": [
       "<matplotlib.axes._subplots.AxesSubplot at 0x7fc73df2f390>"
      ]
     },
     "execution_count": 28,
     "metadata": {},
     "output_type": "execute_result"
    },
    {
     "data": {
      "image/png": "[encoded data removed]",
      "text/plain": [
       "<matplotlib.figure.Figure at 0x7fc7bfdf70f0>"
      ]
     },
     "metadata": {},
     "output_type": "display_data"
    }
   ],
   "source": [
    "females_nonwid[['occ_clean', 'gender']].groupby(['occ_clean']).count().sort_values('gender',ascending=False)[0:10].plot(kind='bar')"
   ]
  },
  {
   "cell_type": "code",
   "execution_count": 137,
   "metadata": {},
   "outputs": [
    {
     "data": {
      "text/html": [
       "<div>\n",
       "<table border=\"1\" class=\"dataframe\">\n",
       "  <thead>\n",
       "    <tr style=\"text-align: right;\">\n",
       "      <th></th>\n",
       "      <th>gender</th>\n",
       "    </tr>\n",
       "    <tr>\n",
       "      <th>validSince</th>\n",
       "      <th></th>\n",
       "    </tr>\n",
       "  </thead>\n",
       "  <tbody>\n",
       "    <tr>\n",
       "      <th>1849</th>\n",
       "      <td>1434</td>\n",
       "    </tr>\n",
       "    <tr>\n",
       "      <th>1850</th>\n",
       "      <td>1439</td>\n",
       "    </tr>\n",
       "    <tr>\n",
       "      <th>1851</th>\n",
       "      <td>1946</td>\n",
       "    </tr>\n",
       "    <tr>\n",
       "      <th>1852</th>\n",
       "      <td>2235</td>\n",
       "    </tr>\n",
       "    <tr>\n",
       "      <th>1853</th>\n",
       "      <td>2668</td>\n",
       "    </tr>\n",
       "    <tr>\n",
       "      <th>1854</th>\n",
       "      <td>3018</td>\n",
       "    </tr>\n",
       "    <tr>\n",
       "      <th>1855</th>\n",
       "      <td>3255</td>\n",
       "    </tr>\n",
       "    <tr>\n",
       "      <th>1856</th>\n",
       "      <td>3103</td>\n",
       "    </tr>\n",
       "    <tr>\n",
       "      <th>1857</th>\n",
       "      <td>3166</td>\n",
       "    </tr>\n",
       "    <tr>\n",
       "      <th>1858</th>\n",
       "      <td>2884</td>\n",
       "    </tr>\n",
       "    <tr>\n",
       "      <th>1859</th>\n",
       "      <td>3243</td>\n",
       "    </tr>\n",
       "    <tr>\n",
       "      <th>1860</th>\n",
       "      <td>3465</td>\n",
       "    </tr>\n",
       "    <tr>\n",
       "      <th>1861</th>\n",
       "      <td>3070</td>\n",
       "    </tr>\n",
       "    <tr>\n",
       "      <th>1862</th>\n",
       "      <td>3462</td>\n",
       "    </tr>\n",
       "    <tr>\n",
       "      <th>1863</th>\n",
       "      <td>2435</td>\n",
       "    </tr>\n",
       "    <tr>\n",
       "      <th>1864</th>\n",
       "      <td>3457</td>\n",
       "    </tr>\n",
       "    <tr>\n",
       "      <th>1865</th>\n",
       "      <td>3993</td>\n",
       "    </tr>\n",
       "    <tr>\n",
       "      <th>1866</th>\n",
       "      <td>3491</td>\n",
       "    </tr>\n",
       "    <tr>\n",
       "      <th>1867</th>\n",
       "      <td>3475</td>\n",
       "    </tr>\n",
       "    <tr>\n",
       "      <th>1868</th>\n",
       "      <td>3672</td>\n",
       "    </tr>\n",
       "    <tr>\n",
       "      <th>1869</th>\n",
       "      <td>3678</td>\n",
       "    </tr>\n",
       "    <tr>\n",
       "      <th>1870</th>\n",
       "      <td>3838</td>\n",
       "    </tr>\n",
       "    <tr>\n",
       "      <th>1872</th>\n",
       "      <td>4144</td>\n",
       "    </tr>\n",
       "    <tr>\n",
       "      <th>1873</th>\n",
       "      <td>4752</td>\n",
       "    </tr>\n",
       "    <tr>\n",
       "      <th>1874</th>\n",
       "      <td>4603</td>\n",
       "    </tr>\n",
       "    <tr>\n",
       "      <th>1875</th>\n",
       "      <td>5179</td>\n",
       "    </tr>\n",
       "    <tr>\n",
       "      <th>1876</th>\n",
       "      <td>5719</td>\n",
       "    </tr>\n",
       "    <tr>\n",
       "      <th>1877</th>\n",
       "      <td>5733</td>\n",
       "    </tr>\n",
       "    <tr>\n",
       "      <th>1878</th>\n",
       "      <td>6010</td>\n",
       "    </tr>\n",
       "    <tr>\n",
       "      <th>1879</th>\n",
       "      <td>6352</td>\n",
       "    </tr>\n",
       "  </tbody>\n",
       "</table>\n",
       "</div>"
      ],
      "text/plain": [
       "            gender\n",
       "validSince        \n",
       "1849          1434\n",
       "1850          1439\n",
       "1851          1946\n",
       "1852          2235\n",
       "1853          2668\n",
       "1854          3018\n",
       "1855          3255\n",
       "1856          3103\n",
       "1857          3166\n",
       "1858          2884\n",
       "1859          3243\n",
       "1860          3465\n",
       "1861          3070\n",
       "1862          3462\n",
       "1863          2435\n",
       "1864          3457\n",
       "1865          3993\n",
       "1866          3491\n",
       "1867          3475\n",
       "1868          3672\n",
       "1869          3678\n",
       "1870          3838\n",
       "1872          4144\n",
       "1873          4752\n",
       "1874          4603\n",
       "1875          5179\n",
       "1876          5719\n",
       "1877          5733\n",
       "1878          6010\n",
       "1879          6352"
      ]
     },
     "execution_count": 137,
     "metadata": {},
     "output_type": "execute_result"
    }
   ],
   "source": [
    "females_nonwid[['gender','validSince']].groupby(['validSince']).count()"
   ]
  },
  {
   "cell_type": "code",
   "execution_count": 138,
   "metadata": {},
   "outputs": [
    {
     "name": "stderr",
     "output_type": "stream",
     "text": [
      "/usr/local/Anaconda3-5.0.0-Linux-x86_64/envs/PUI2016_Python3/lib/python3.5/site-packages/matplotlib/figure.py:1999: UserWarning: This figure includes Axes that are not compatible with tight_layout, so results might be incorrect.\n",
      "  warnings.warn(\"This figure includes Axes that are not compatible \"\n"
     ]
    },
    {
     "data": {
      "image/png": "[encoded data removed]",
      "text/plain": [
       "<matplotlib.figure.Figure at 0x7fc7392732e8>"
      ]
     },
     "metadata": {},
     "output_type": "display_data"
    }
   ],
   "source": [
    "fig, ax = plt.subplots(figsize=(10,8))\n",
    "#plt.plot([year for year in range(1850,1860)],cumulative_counts,linewidth=3.0)\n",
    "males_eth[['gender','validSince']].groupby(['validSince']).count().plot(ax=ax,label='employed males')\n",
    "females_nonwid[['gender','validSince']].groupby(['validSince']).count().plot(ax=ax,label='employed females')\n",
    "plt.xlabel('Years',fontsize=14.0)\n",
    "plt.title('Number of Employed NYC Residents in New York from 1849 to 1879', fontsize=14.0)\n",
    "plt.ylabel('Number of Employed Genders',fontsize=14.0)\n",
    "ax.legend([\"employed males\", \"employed females\"]);\n",
    "plt.savefig('num_business_genders.png')"
   ]
  },
  {
   "cell_type": "code",
   "execution_count": 107,
   "metadata": {},
   "outputs": [],
   "source": [
    "top10_occupations = females_nonwid[['occ_clean', 'gender']].groupby(['occ_clean']).count().sort_values('gender',ascending=False)[0:10].index.tolist()"
   ]
  },
  {
   "cell_type": "code",
   "execution_count": 108,
   "metadata": {},
   "outputs": [
    {
     "data": {
      "text/plain": [
       "['dressmaker',\n",
       " 'washing',\n",
       " 'boardinghouse',\n",
       " 'milliner',\n",
       " 'sewing',\n",
       " 'teacher',\n",
       " 'nurse',\n",
       " 'grocer',\n",
       " 'seamstress',\n",
       " 'fancygds']"
      ]
     },
     "execution_count": 108,
     "metadata": {},
     "output_type": "execute_result"
    }
   ],
   "source": [
    "#replace dressmakr --> dressmaker ; bdgh --> boardinghouse boarding--boardinghouse ; milliner -->millinery\n",
    "top10_occupations\n"
   ]
  },
  {
   "cell_type": "code",
   "execution_count": null,
   "metadata": {},
   "outputs": [],
   "source": [
    "fig, ax = plt.subplots(figsize=(10,8))\n",
    "#plt.plot([year for year in range(1850,1860)],cumulative_counts,linewidth=3.0)\n",
    "males_eth[['gender','validSince']].groupby(['validSince']).count().plot(ax=ax,label='employed males')\n",
    "females_nonwid[['gender','validSince']].groupby(['validSince']).count().plot(ax=ax,label='employed females')\n",
    "plt.xlabel('Years',fontsize=14.0)\n",
    "plt.ylabel('Number of Employed Genders',fontsize=14.0)\n",
    "plt.xticks(arange(1850,1860),fontsize=14.0)\n",
    "plt.yticks(fontsize=14.0)\n",
    "plt.title('Number of Employed NYC Residents in New York from 1850 to 1859', fontsize=14.0)\n",
    "\n",
    "ax.legend([\"employed females\", \"employed males\"]);\n",
    "plt.savefig('num_business_genders.png')"
   ]
  },
  {
   "cell_type": "code",
   "execution_count": 109,
   "metadata": {},
   "outputs": [],
   "source": [
    "females_nonwid_top10 = females_nonwid[females_nonwid['occ_clean'].isin(top10_occupations)]"
   ]
  },
  {
   "cell_type": "code",
   "execution_count": 110,
   "metadata": {},
   "outputs": [],
   "source": [
    "occ_gb_year = females_nonwid_top10[['occ_clean','validSince','gender']].groupby(['occ_clean','validSince']).count()"
   ]
  },
  {
   "cell_type": "code",
   "execution_count": 111,
   "metadata": {},
   "outputs": [],
   "source": [
    "occ_gb_race = females_nonwid_top10[['occ_clean','validSince','race']].groupby(['occ_clean','race']).count()"
   ]
  },
  {
   "cell_type": "code",
   "execution_count": 112,
   "metadata": {},
   "outputs": [],
   "source": [
    "occ_gb_race.reset_index(inplace=True)"
   ]
  },
  {
   "cell_type": "code",
   "execution_count": 113,
   "metadata": {},
   "outputs": [],
   "source": [
    "occ_gb_year.reset_index(inplace=True)"
   ]
  },
  {
   "cell_type": "code",
   "execution_count": 114,
   "metadata": {},
   "outputs": [
    {
     "data": {
      "text/html": [
       "<div>\n",
       "<table border=\"1\" class=\"dataframe\">\n",
       "  <thead>\n",
       "    <tr style=\"text-align: right;\">\n",
       "      <th></th>\n",
       "      <th>occ_clean</th>\n",
       "      <th>validSince</th>\n",
       "      <th>gender</th>\n",
       "    </tr>\n",
       "  </thead>\n",
       "  <tbody>\n",
       "    <tr>\n",
       "      <th>0</th>\n",
       "      <td>boardinghouse</td>\n",
       "      <td>1849</td>\n",
       "      <td>2</td>\n",
       "    </tr>\n",
       "    <tr>\n",
       "      <th>1</th>\n",
       "      <td>boardinghouse</td>\n",
       "      <td>1850</td>\n",
       "      <td>2</td>\n",
       "    </tr>\n",
       "    <tr>\n",
       "      <th>2</th>\n",
       "      <td>boardinghouse</td>\n",
       "      <td>1852</td>\n",
       "      <td>106</td>\n",
       "    </tr>\n",
       "    <tr>\n",
       "      <th>3</th>\n",
       "      <td>boardinghouse</td>\n",
       "      <td>1853</td>\n",
       "      <td>240</td>\n",
       "    </tr>\n",
       "    <tr>\n",
       "      <th>4</th>\n",
       "      <td>boardinghouse</td>\n",
       "      <td>1854</td>\n",
       "      <td>273</td>\n",
       "    </tr>\n",
       "  </tbody>\n",
       "</table>\n",
       "</div>"
      ],
      "text/plain": [
       "       occ_clean  validSince  gender\n",
       "0  boardinghouse        1849       2\n",
       "1  boardinghouse        1850       2\n",
       "2  boardinghouse        1852     106\n",
       "3  boardinghouse        1853     240\n",
       "4  boardinghouse        1854     273"
      ]
     },
     "execution_count": 114,
     "metadata": {},
     "output_type": "execute_result"
    }
   ],
   "source": [
    "occ_gb_year.head()"
   ]
  },
  {
   "cell_type": "code",
   "execution_count": 115,
   "metadata": {},
   "outputs": [
    {
     "data": {
      "text/html": [
       "<div>\n",
       "<table border=\"1\" class=\"dataframe\">\n",
       "  <thead>\n",
       "    <tr style=\"text-align: right;\">\n",
       "      <th></th>\n",
       "      <th>occ_clean</th>\n",
       "      <th>race</th>\n",
       "      <th>validSince</th>\n",
       "    </tr>\n",
       "  </thead>\n",
       "  <tbody>\n",
       "    <tr>\n",
       "      <th>0</th>\n",
       "      <td>boardinghouse</td>\n",
       "      <td>Asian,GreaterEastAsian,EastAsian</td>\n",
       "      <td>35</td>\n",
       "    </tr>\n",
       "    <tr>\n",
       "      <th>1</th>\n",
       "      <td>boardinghouse</td>\n",
       "      <td>Asian,IndianSubContinent</td>\n",
       "      <td>13</td>\n",
       "    </tr>\n",
       "    <tr>\n",
       "      <th>2</th>\n",
       "      <td>boardinghouse</td>\n",
       "      <td>GreaterAfrican,Africans</td>\n",
       "      <td>27</td>\n",
       "    </tr>\n",
       "    <tr>\n",
       "      <th>3</th>\n",
       "      <td>boardinghouse</td>\n",
       "      <td>GreaterAfrican,Muslim</td>\n",
       "      <td>24</td>\n",
       "    </tr>\n",
       "    <tr>\n",
       "      <th>4</th>\n",
       "      <td>boardinghouse</td>\n",
       "      <td>GreaterEuropean,British</td>\n",
       "      <td>5624</td>\n",
       "    </tr>\n",
       "  </tbody>\n",
       "</table>\n",
       "</div>"
      ],
      "text/plain": [
       "       occ_clean                              race  validSince\n",
       "0  boardinghouse  Asian,GreaterEastAsian,EastAsian          35\n",
       "1  boardinghouse          Asian,IndianSubContinent          13\n",
       "2  boardinghouse           GreaterAfrican,Africans          27\n",
       "3  boardinghouse             GreaterAfrican,Muslim          24\n",
       "4  boardinghouse           GreaterEuropean,British        5624"
      ]
     },
     "execution_count": 115,
     "metadata": {},
     "output_type": "execute_result"
    }
   ],
   "source": [
    "occ_gb_race.head()"
   ]
  },
  {
   "cell_type": "code",
   "execution_count": 116,
   "metadata": {},
   "outputs": [],
   "source": [
    "pivot_df = occ_gb_year.pivot(columns='validSince', index='occ_clean', values='gender')"
   ]
  },
  {
   "cell_type": "code",
   "execution_count": 117,
   "metadata": {},
   "outputs": [],
   "source": [
    "pivot_df_race = occ_gb_race.pivot(columns='race', index='occ_clean', values='validSince')"
   ]
  },
  {
   "cell_type": "code",
   "execution_count": 118,
   "metadata": {},
   "outputs": [
    {
     "data": {
      "text/html": [
       "<div>\n",
       "<table border=\"1\" class=\"dataframe\">\n",
       "  <thead>\n",
       "    <tr style=\"text-align: right;\">\n",
       "      <th>race</th>\n",
       "      <th>Asian,GreaterEastAsian,EastAsian</th>\n",
       "      <th>Asian,GreaterEastAsian,Japanese</th>\n",
       "      <th>Asian,IndianSubContinent</th>\n",
       "      <th>GreaterAfrican,Africans</th>\n",
       "      <th>GreaterAfrican,Muslim</th>\n",
       "      <th>GreaterEuropean,British</th>\n",
       "      <th>GreaterEuropean,EastEuropean</th>\n",
       "      <th>GreaterEuropean,Jewish</th>\n",
       "      <th>GreaterEuropean,WestEuropean,French</th>\n",
       "      <th>GreaterEuropean,WestEuropean,Germanic</th>\n",
       "      <th>GreaterEuropean,WestEuropean,Hispanic</th>\n",
       "      <th>GreaterEuropean,WestEuropean,Italian</th>\n",
       "      <th>GreaterEuropean,WestEuropean,Nordic</th>\n",
       "    </tr>\n",
       "    <tr>\n",
       "      <th>occ_clean</th>\n",
       "      <th></th>\n",
       "      <th></th>\n",
       "      <th></th>\n",
       "      <th></th>\n",
       "      <th></th>\n",
       "      <th></th>\n",
       "      <th></th>\n",
       "      <th></th>\n",
       "      <th></th>\n",
       "      <th></th>\n",
       "      <th></th>\n",
       "      <th></th>\n",
       "      <th></th>\n",
       "    </tr>\n",
       "  </thead>\n",
       "  <tbody>\n",
       "    <tr>\n",
       "      <th>boardinghouse</th>\n",
       "      <td>35.0</td>\n",
       "      <td>NaN</td>\n",
       "      <td>13.0</td>\n",
       "      <td>27.0</td>\n",
       "      <td>24.0</td>\n",
       "      <td>5624.0</td>\n",
       "      <td>28.0</td>\n",
       "      <td>260.0</td>\n",
       "      <td>148.0</td>\n",
       "      <td>63.0</td>\n",
       "      <td>38.0</td>\n",
       "      <td>81.0</td>\n",
       "      <td>63.0</td>\n",
       "    </tr>\n",
       "    <tr>\n",
       "      <th>dressmaker</th>\n",
       "      <td>45.0</td>\n",
       "      <td>11.0</td>\n",
       "      <td>67.0</td>\n",
       "      <td>22.0</td>\n",
       "      <td>90.0</td>\n",
       "      <td>12823.0</td>\n",
       "      <td>114.0</td>\n",
       "      <td>1049.0</td>\n",
       "      <td>633.0</td>\n",
       "      <td>385.0</td>\n",
       "      <td>138.0</td>\n",
       "      <td>196.0</td>\n",
       "      <td>195.0</td>\n",
       "    </tr>\n",
       "    <tr>\n",
       "      <th>fancygds</th>\n",
       "      <td>4.0</td>\n",
       "      <td>NaN</td>\n",
       "      <td>10.0</td>\n",
       "      <td>4.0</td>\n",
       "      <td>8.0</td>\n",
       "      <td>1285.0</td>\n",
       "      <td>19.0</td>\n",
       "      <td>174.0</td>\n",
       "      <td>41.0</td>\n",
       "      <td>53.0</td>\n",
       "      <td>11.0</td>\n",
       "      <td>16.0</td>\n",
       "      <td>32.0</td>\n",
       "    </tr>\n",
       "    <tr>\n",
       "      <th>grocer</th>\n",
       "      <td>18.0</td>\n",
       "      <td>NaN</td>\n",
       "      <td>3.0</td>\n",
       "      <td>10.0</td>\n",
       "      <td>15.0</td>\n",
       "      <td>1715.0</td>\n",
       "      <td>12.0</td>\n",
       "      <td>158.0</td>\n",
       "      <td>40.0</td>\n",
       "      <td>99.0</td>\n",
       "      <td>20.0</td>\n",
       "      <td>20.0</td>\n",
       "      <td>75.0</td>\n",
       "    </tr>\n",
       "    <tr>\n",
       "      <th>milliner</th>\n",
       "      <td>15.0</td>\n",
       "      <td>1.0</td>\n",
       "      <td>19.0</td>\n",
       "      <td>14.0</td>\n",
       "      <td>41.0</td>\n",
       "      <td>3749.0</td>\n",
       "      <td>45.0</td>\n",
       "      <td>427.0</td>\n",
       "      <td>184.0</td>\n",
       "      <td>133.0</td>\n",
       "      <td>52.0</td>\n",
       "      <td>105.0</td>\n",
       "      <td>56.0</td>\n",
       "    </tr>\n",
       "  </tbody>\n",
       "</table>\n",
       "</div>"
      ],
      "text/plain": [
       "race           Asian,GreaterEastAsian,EastAsian  \\\n",
       "occ_clean                                         \n",
       "boardinghouse                              35.0   \n",
       "dressmaker                                 45.0   \n",
       "fancygds                                    4.0   \n",
       "grocer                                     18.0   \n",
       "milliner                                   15.0   \n",
       "\n",
       "race           Asian,GreaterEastAsian,Japanese  Asian,IndianSubContinent  \\\n",
       "occ_clean                                                                  \n",
       "boardinghouse                              NaN                      13.0   \n",
       "dressmaker                                11.0                      67.0   \n",
       "fancygds                                   NaN                      10.0   \n",
       "grocer                                     NaN                       3.0   \n",
       "milliner                                   1.0                      19.0   \n",
       "\n",
       "race           GreaterAfrican,Africans  GreaterAfrican,Muslim  \\\n",
       "occ_clean                                                       \n",
       "boardinghouse                     27.0                   24.0   \n",
       "dressmaker                        22.0                   90.0   \n",
       "fancygds                           4.0                    8.0   \n",
       "grocer                            10.0                   15.0   \n",
       "milliner                          14.0                   41.0   \n",
       "\n",
       "race           GreaterEuropean,British  GreaterEuropean,EastEuropean  \\\n",
       "occ_clean                                                              \n",
       "boardinghouse                   5624.0                          28.0   \n",
       "dressmaker                     12823.0                         114.0   \n",
       "fancygds                        1285.0                          19.0   \n",
       "grocer                          1715.0                          12.0   \n",
       "milliner                        3749.0                          45.0   \n",
       "\n",
       "race           GreaterEuropean,Jewish  GreaterEuropean,WestEuropean,French  \\\n",
       "occ_clean                                                                    \n",
       "boardinghouse                   260.0                                148.0   \n",
       "dressmaker                     1049.0                                633.0   \n",
       "fancygds                        174.0                                 41.0   \n",
       "grocer                          158.0                                 40.0   \n",
       "milliner                        427.0                                184.0   \n",
       "\n",
       "race           GreaterEuropean,WestEuropean,Germanic  \\\n",
       "occ_clean                                              \n",
       "boardinghouse                                   63.0   \n",
       "dressmaker                                     385.0   \n",
       "fancygds                                        53.0   \n",
       "grocer                                          99.0   \n",
       "milliner                                       133.0   \n",
       "\n",
       "race           GreaterEuropean,WestEuropean,Hispanic  \\\n",
       "occ_clean                                              \n",
       "boardinghouse                                   38.0   \n",
       "dressmaker                                     138.0   \n",
       "fancygds                                        11.0   \n",
       "grocer                                          20.0   \n",
       "milliner                                        52.0   \n",
       "\n",
       "race           GreaterEuropean,WestEuropean,Italian  \\\n",
       "occ_clean                                             \n",
       "boardinghouse                                  81.0   \n",
       "dressmaker                                    196.0   \n",
       "fancygds                                       16.0   \n",
       "grocer                                         20.0   \n",
       "milliner                                      105.0   \n",
       "\n",
       "race           GreaterEuropean,WestEuropean,Nordic  \n",
       "occ_clean                                           \n",
       "boardinghouse                                 63.0  \n",
       "dressmaker                                   195.0  \n",
       "fancygds                                      32.0  \n",
       "grocer                                        75.0  \n",
       "milliner                                      56.0  "
      ]
     },
     "execution_count": 118,
     "metadata": {},
     "output_type": "execute_result"
    }
   ],
   "source": [
    "pivot_df_race.head()"
   ]
  },
  {
   "cell_type": "code",
   "execution_count": 119,
   "metadata": {},
   "outputs": [
    {
     "data": {
      "text/plain": [
       "Index(['Asian,GreaterEastAsian,EastAsian', 'Asian,GreaterEastAsian,Japanese',\n",
       "       'Asian,IndianSubContinent', 'GreaterAfrican,Africans',\n",
       "       'GreaterAfrican,Muslim', 'GreaterEuropean,British',\n",
       "       'GreaterEuropean,EastEuropean', 'GreaterEuropean,Jewish',\n",
       "       'GreaterEuropean,WestEuropean,French',\n",
       "       'GreaterEuropean,WestEuropean,Germanic',\n",
       "       'GreaterEuropean,WestEuropean,Hispanic',\n",
       "       'GreaterEuropean,WestEuropean,Italian',\n",
       "       'GreaterEuropean,WestEuropean,Nordic'],\n",
       "      dtype='object', name='race')"
      ]
     },
     "execution_count": 119,
     "metadata": {},
     "output_type": "execute_result"
    }
   ],
   "source": [
    "pivot_df_race.columns"
   ]
  },
  {
   "cell_type": "code",
   "execution_count": 120,
   "metadata": {},
   "outputs": [],
   "source": [
    "pivot_df_race.rename(columns = {'Asian,GreaterEastAsian,EastAsian' : 'EastAsian',\n",
    "                                'Asian,GreaterEastAsian,Japanese' : 'Japanese',\n",
    "                                'Asian,IndianSubContinent' : 'IndianSubcontinent',\n",
    "                               'GreaterAfrican,Africans' : 'Africans',\n",
    "                               'GreaterEuropean,British' : 'British',\n",
    "                               'GreaterEuropean,EastEuropean' : 'EastEuropean',\n",
    "                               'GreaterEuropean,Jewish' : 'Jewish',\n",
    "                               'GreaterEuropean,WestEuropean,French' : 'French',\n",
    "                               'GreaterEuropean,WestEuropean,Germanic' : 'Germanic',\n",
    "                               'GreaterEuropean,WestEuropean,Hispanic' : 'Hispanic',\n",
    "                               'GreaterEuropean,WestEuropean,Italian' : 'Italian',\n",
    "                               'GreaterEuropean,WestEuropean,Nordic' : 'Nordic'},inplace=True )"
   ]
  },
  {
   "cell_type": "code",
   "execution_count": 121,
   "metadata": {},
   "outputs": [],
   "source": [
    "pivot_df_race.fillna(0,inplace=True)"
   ]
  },
  {
   "cell_type": "code",
   "execution_count": 122,
   "metadata": {},
   "outputs": [],
   "source": [
    "pivot_df.fillna(0,inplace=True)"
   ]
  },
  {
   "cell_type": "code",
   "execution_count": 123,
   "metadata": {},
   "outputs": [],
   "source": [
    "pivot_df_prop = pivot_df / pivot_df.sum(axis = 0)"
   ]
  },
  {
   "cell_type": "code",
   "execution_count": 124,
   "metadata": {},
   "outputs": [],
   "source": [
    "pivot_df_race_prop = pivot_df_race / pivot_df_race.sum(axis = 0)"
   ]
  },
  {
   "cell_type": "code",
   "execution_count": 125,
   "metadata": {},
   "outputs": [
    {
     "data": {
      "text/html": [
       "<div>\n",
       "<table border=\"1\" class=\"dataframe\">\n",
       "  <thead>\n",
       "    <tr style=\"text-align: right;\">\n",
       "      <th>validSince</th>\n",
       "      <th>1849</th>\n",
       "      <th>1850</th>\n",
       "      <th>1851</th>\n",
       "      <th>1852</th>\n",
       "      <th>1853</th>\n",
       "      <th>1854</th>\n",
       "      <th>1855</th>\n",
       "      <th>1856</th>\n",
       "      <th>1857</th>\n",
       "      <th>1858</th>\n",
       "      <th>...</th>\n",
       "      <th>1869</th>\n",
       "      <th>1870</th>\n",
       "      <th>1872</th>\n",
       "      <th>1873</th>\n",
       "      <th>1874</th>\n",
       "      <th>1875</th>\n",
       "      <th>1876</th>\n",
       "      <th>1877</th>\n",
       "      <th>1878</th>\n",
       "      <th>1879</th>\n",
       "    </tr>\n",
       "    <tr>\n",
       "      <th>occ_clean</th>\n",
       "      <th></th>\n",
       "      <th></th>\n",
       "      <th></th>\n",
       "      <th></th>\n",
       "      <th></th>\n",
       "      <th></th>\n",
       "      <th></th>\n",
       "      <th></th>\n",
       "      <th></th>\n",
       "      <th></th>\n",
       "      <th></th>\n",
       "      <th></th>\n",
       "      <th></th>\n",
       "      <th></th>\n",
       "      <th></th>\n",
       "      <th></th>\n",
       "      <th></th>\n",
       "      <th></th>\n",
       "      <th></th>\n",
       "      <th></th>\n",
       "      <th></th>\n",
       "    </tr>\n",
       "  </thead>\n",
       "  <tbody>\n",
       "    <tr>\n",
       "      <th>boardinghouse</th>\n",
       "      <td>0.004890</td>\n",
       "      <td>0.004444</td>\n",
       "      <td>0.000000</td>\n",
       "      <td>0.123256</td>\n",
       "      <td>0.189125</td>\n",
       "      <td>0.187114</td>\n",
       "      <td>0.015422</td>\n",
       "      <td>0.137017</td>\n",
       "      <td>0.137052</td>\n",
       "      <td>0.131186</td>\n",
       "      <td>...</td>\n",
       "      <td>0.157834</td>\n",
       "      <td>0.118982</td>\n",
       "      <td>0.127591</td>\n",
       "      <td>0.131317</td>\n",
       "      <td>0.139060</td>\n",
       "      <td>0.151119</td>\n",
       "      <td>0.124501</td>\n",
       "      <td>0.122170</td>\n",
       "      <td>0.123718</td>\n",
       "      <td>0.120514</td>\n",
       "    </tr>\n",
       "    <tr>\n",
       "      <th>dressmaker</th>\n",
       "      <td>0.369193</td>\n",
       "      <td>0.391111</td>\n",
       "      <td>0.376997</td>\n",
       "      <td>0.302326</td>\n",
       "      <td>0.288416</td>\n",
       "      <td>0.267992</td>\n",
       "      <td>0.374188</td>\n",
       "      <td>0.293717</td>\n",
       "      <td>0.252066</td>\n",
       "      <td>0.263943</td>\n",
       "      <td>...</td>\n",
       "      <td>0.288018</td>\n",
       "      <td>0.297731</td>\n",
       "      <td>0.324275</td>\n",
       "      <td>0.334714</td>\n",
       "      <td>0.439962</td>\n",
       "      <td>0.381173</td>\n",
       "      <td>0.385118</td>\n",
       "      <td>0.393475</td>\n",
       "      <td>0.417635</td>\n",
       "      <td>0.367139</td>\n",
       "    </tr>\n",
       "    <tr>\n",
       "      <th>fancygds</th>\n",
       "      <td>0.002445</td>\n",
       "      <td>0.011111</td>\n",
       "      <td>0.001597</td>\n",
       "      <td>0.004651</td>\n",
       "      <td>0.004728</td>\n",
       "      <td>0.004112</td>\n",
       "      <td>0.000812</td>\n",
       "      <td>0.000000</td>\n",
       "      <td>0.000000</td>\n",
       "      <td>0.000786</td>\n",
       "      <td>...</td>\n",
       "      <td>0.077189</td>\n",
       "      <td>0.063641</td>\n",
       "      <td>0.077844</td>\n",
       "      <td>0.065037</td>\n",
       "      <td>0.000475</td>\n",
       "      <td>0.000000</td>\n",
       "      <td>0.000726</td>\n",
       "      <td>0.001664</td>\n",
       "      <td>0.000342</td>\n",
       "      <td>0.000000</td>\n",
       "    </tr>\n",
       "    <tr>\n",
       "      <th>grocer</th>\n",
       "      <td>0.036675</td>\n",
       "      <td>0.033333</td>\n",
       "      <td>0.031949</td>\n",
       "      <td>0.030233</td>\n",
       "      <td>0.020489</td>\n",
       "      <td>0.025360</td>\n",
       "      <td>0.026786</td>\n",
       "      <td>0.025738</td>\n",
       "      <td>0.033747</td>\n",
       "      <td>0.045562</td>\n",
       "      <td>...</td>\n",
       "      <td>0.034562</td>\n",
       "      <td>0.034864</td>\n",
       "      <td>0.040534</td>\n",
       "      <td>0.041839</td>\n",
       "      <td>0.046037</td>\n",
       "      <td>0.038413</td>\n",
       "      <td>0.056624</td>\n",
       "      <td>0.056258</td>\n",
       "      <td>0.055024</td>\n",
       "      <td>0.067172</td>\n",
       "    </tr>\n",
       "    <tr>\n",
       "      <th>milliner</th>\n",
       "      <td>0.227384</td>\n",
       "      <td>0.188889</td>\n",
       "      <td>0.127796</td>\n",
       "      <td>0.105814</td>\n",
       "      <td>0.085894</td>\n",
       "      <td>0.080877</td>\n",
       "      <td>0.117695</td>\n",
       "      <td>0.125662</td>\n",
       "      <td>0.116391</td>\n",
       "      <td>0.162608</td>\n",
       "      <td>...</td>\n",
       "      <td>0.095622</td>\n",
       "      <td>0.069729</td>\n",
       "      <td>0.062183</td>\n",
       "      <td>0.061309</td>\n",
       "      <td>0.072615</td>\n",
       "      <td>0.081891</td>\n",
       "      <td>0.070054</td>\n",
       "      <td>0.058921</td>\n",
       "      <td>0.059467</td>\n",
       "      <td>0.053342</td>\n",
       "    </tr>\n",
       "    <tr>\n",
       "      <th>nurse</th>\n",
       "      <td>0.119804</td>\n",
       "      <td>0.128889</td>\n",
       "      <td>0.108626</td>\n",
       "      <td>0.059302</td>\n",
       "      <td>0.062254</td>\n",
       "      <td>0.064428</td>\n",
       "      <td>0.072240</td>\n",
       "      <td>0.074186</td>\n",
       "      <td>0.056474</td>\n",
       "      <td>0.062844</td>\n",
       "      <td>...</td>\n",
       "      <td>0.021889</td>\n",
       "      <td>0.037078</td>\n",
       "      <td>0.027637</td>\n",
       "      <td>0.024441</td>\n",
       "      <td>0.029426</td>\n",
       "      <td>0.048966</td>\n",
       "      <td>0.048276</td>\n",
       "      <td>0.041611</td>\n",
       "      <td>0.029733</td>\n",
       "      <td>0.039183</td>\n",
       "    </tr>\n",
       "    <tr>\n",
       "      <th>seamstress</th>\n",
       "      <td>0.068460</td>\n",
       "      <td>0.057778</td>\n",
       "      <td>0.132588</td>\n",
       "      <td>0.117442</td>\n",
       "      <td>0.104807</td>\n",
       "      <td>0.124743</td>\n",
       "      <td>0.103896</td>\n",
       "      <td>0.118092</td>\n",
       "      <td>0.088154</td>\n",
       "      <td>0.077769</td>\n",
       "      <td>...</td>\n",
       "      <td>0.000576</td>\n",
       "      <td>0.000000</td>\n",
       "      <td>0.000000</td>\n",
       "      <td>0.000000</td>\n",
       "      <td>0.000000</td>\n",
       "      <td>0.000422</td>\n",
       "      <td>0.000000</td>\n",
       "      <td>0.000000</td>\n",
       "      <td>0.000000</td>\n",
       "      <td>0.000000</td>\n",
       "    </tr>\n",
       "    <tr>\n",
       "      <th>sewing</th>\n",
       "      <td>0.017115</td>\n",
       "      <td>0.006667</td>\n",
       "      <td>0.019169</td>\n",
       "      <td>0.010465</td>\n",
       "      <td>0.017336</td>\n",
       "      <td>0.015079</td>\n",
       "      <td>0.019481</td>\n",
       "      <td>0.016654</td>\n",
       "      <td>0.033058</td>\n",
       "      <td>0.036921</td>\n",
       "      <td>...</td>\n",
       "      <td>0.169355</td>\n",
       "      <td>0.168235</td>\n",
       "      <td>0.159834</td>\n",
       "      <td>0.106048</td>\n",
       "      <td>0.091125</td>\n",
       "      <td>0.085690</td>\n",
       "      <td>0.092922</td>\n",
       "      <td>0.094208</td>\n",
       "      <td>0.076213</td>\n",
       "      <td>0.114587</td>\n",
       "    </tr>\n",
       "    <tr>\n",
       "      <th>teacher</th>\n",
       "      <td>0.095355</td>\n",
       "      <td>0.120000</td>\n",
       "      <td>0.086262</td>\n",
       "      <td>0.102326</td>\n",
       "      <td>0.076438</td>\n",
       "      <td>0.064428</td>\n",
       "      <td>0.125000</td>\n",
       "      <td>0.133989</td>\n",
       "      <td>0.144628</td>\n",
       "      <td>0.089552</td>\n",
       "      <td>...</td>\n",
       "      <td>0.055876</td>\n",
       "      <td>0.065302</td>\n",
       "      <td>0.045601</td>\n",
       "      <td>0.055510</td>\n",
       "      <td>0.064547</td>\n",
       "      <td>0.059519</td>\n",
       "      <td>0.065336</td>\n",
       "      <td>0.056591</td>\n",
       "      <td>0.085099</td>\n",
       "      <td>0.099111</td>\n",
       "    </tr>\n",
       "    <tr>\n",
       "      <th>washing</th>\n",
       "      <td>0.058680</td>\n",
       "      <td>0.057778</td>\n",
       "      <td>0.115016</td>\n",
       "      <td>0.144186</td>\n",
       "      <td>0.150512</td>\n",
       "      <td>0.165867</td>\n",
       "      <td>0.144481</td>\n",
       "      <td>0.074943</td>\n",
       "      <td>0.138430</td>\n",
       "      <td>0.128830</td>\n",
       "      <td>...</td>\n",
       "      <td>0.099078</td>\n",
       "      <td>0.144438</td>\n",
       "      <td>0.134500</td>\n",
       "      <td>0.179785</td>\n",
       "      <td>0.116754</td>\n",
       "      <td>0.152807</td>\n",
       "      <td>0.156443</td>\n",
       "      <td>0.175100</td>\n",
       "      <td>0.152768</td>\n",
       "      <td>0.138953</td>\n",
       "    </tr>\n",
       "  </tbody>\n",
       "</table>\n",
       "<p>10 rows × 30 columns</p>\n",
       "</div>"
      ],
      "text/plain": [
       "validSince         1849      1850      1851      1852      1853      1854  \\\n",
       "occ_clean                                                                   \n",
       "boardinghouse  0.004890  0.004444  0.000000  0.123256  0.189125  0.187114   \n",
       "dressmaker     0.369193  0.391111  0.376997  0.302326  0.288416  0.267992   \n",
       "fancygds       0.002445  0.011111  0.001597  0.004651  0.004728  0.004112   \n",
       "grocer         0.036675  0.033333  0.031949  0.030233  0.020489  0.025360   \n",
       "milliner       0.227384  0.188889  0.127796  0.105814  0.085894  0.080877   \n",
       "nurse          0.119804  0.128889  0.108626  0.059302  0.062254  0.064428   \n",
       "seamstress     0.068460  0.057778  0.132588  0.117442  0.104807  0.124743   \n",
       "sewing         0.017115  0.006667  0.019169  0.010465  0.017336  0.015079   \n",
       "teacher        0.095355  0.120000  0.086262  0.102326  0.076438  0.064428   \n",
       "washing        0.058680  0.057778  0.115016  0.144186  0.150512  0.165867   \n",
       "\n",
       "validSince         1855      1856      1857      1858    ...         1869  \\\n",
       "occ_clean                                                ...                \n",
       "boardinghouse  0.015422  0.137017  0.137052  0.131186    ...     0.157834   \n",
       "dressmaker     0.374188  0.293717  0.252066  0.263943    ...     0.288018   \n",
       "fancygds       0.000812  0.000000  0.000000  0.000786    ...     0.077189   \n",
       "grocer         0.026786  0.025738  0.033747  0.045562    ...     0.034562   \n",
       "milliner       0.117695  0.125662  0.116391  0.162608    ...     0.095622   \n",
       "nurse          0.072240  0.074186  0.056474  0.062844    ...     0.021889   \n",
       "seamstress     0.103896  0.118092  0.088154  0.077769    ...     0.000576   \n",
       "sewing         0.019481  0.016654  0.033058  0.036921    ...     0.169355   \n",
       "teacher        0.125000  0.133989  0.144628  0.089552    ...     0.055876   \n",
       "washing        0.144481  0.074943  0.138430  0.128830    ...     0.099078   \n",
       "\n",
       "validSince         1870      1872      1873      1874      1875      1876  \\\n",
       "occ_clean                                                                   \n",
       "boardinghouse  0.118982  0.127591  0.131317  0.139060  0.151119  0.124501   \n",
       "dressmaker     0.297731  0.324275  0.334714  0.439962  0.381173  0.385118   \n",
       "fancygds       0.063641  0.077844  0.065037  0.000475  0.000000  0.000726   \n",
       "grocer         0.034864  0.040534  0.041839  0.046037  0.038413  0.056624   \n",
       "milliner       0.069729  0.062183  0.061309  0.072615  0.081891  0.070054   \n",
       "nurse          0.037078  0.027637  0.024441  0.029426  0.048966  0.048276   \n",
       "seamstress     0.000000  0.000000  0.000000  0.000000  0.000422  0.000000   \n",
       "sewing         0.168235  0.159834  0.106048  0.091125  0.085690  0.092922   \n",
       "teacher        0.065302  0.045601  0.055510  0.064547  0.059519  0.065336   \n",
       "washing        0.144438  0.134500  0.179785  0.116754  0.152807  0.156443   \n",
       "\n",
       "validSince         1877      1878      1879  \n",
       "occ_clean                                    \n",
       "boardinghouse  0.122170  0.123718  0.120514  \n",
       "dressmaker     0.393475  0.417635  0.367139  \n",
       "fancygds       0.001664  0.000342  0.000000  \n",
       "grocer         0.056258  0.055024  0.067172  \n",
       "milliner       0.058921  0.059467  0.053342  \n",
       "nurse          0.041611  0.029733  0.039183  \n",
       "seamstress     0.000000  0.000000  0.000000  \n",
       "sewing         0.094208  0.076213  0.114587  \n",
       "teacher        0.056591  0.085099  0.099111  \n",
       "washing        0.175100  0.152768  0.138953  \n",
       "\n",
       "[10 rows x 30 columns]"
      ]
     },
     "execution_count": 125,
     "metadata": {},
     "output_type": "execute_result"
    }
   ],
   "source": [
    "pivot_df_prop"
   ]
  },
  {
   "cell_type": "code",
   "execution_count": 126,
   "metadata": {},
   "outputs": [
    {
     "data": {
      "text/html": [
       "<div>\n",
       "<table border=\"1\" class=\"dataframe\">\n",
       "  <thead>\n",
       "    <tr style=\"text-align: right;\">\n",
       "      <th>occ_clean</th>\n",
       "      <th>boardinghouse</th>\n",
       "      <th>dressmaker</th>\n",
       "      <th>fancygds</th>\n",
       "      <th>grocer</th>\n",
       "      <th>milliner</th>\n",
       "      <th>nurse</th>\n",
       "      <th>seamstress</th>\n",
       "      <th>sewing</th>\n",
       "      <th>teacher</th>\n",
       "      <th>washing</th>\n",
       "    </tr>\n",
       "    <tr>\n",
       "      <th>validSince</th>\n",
       "      <th></th>\n",
       "      <th></th>\n",
       "      <th></th>\n",
       "      <th></th>\n",
       "      <th></th>\n",
       "      <th></th>\n",
       "      <th></th>\n",
       "      <th></th>\n",
       "      <th></th>\n",
       "      <th></th>\n",
       "    </tr>\n",
       "  </thead>\n",
       "  <tbody>\n",
       "    <tr>\n",
       "      <th>1849</th>\n",
       "      <td>0.004890</td>\n",
       "      <td>0.369193</td>\n",
       "      <td>0.002445</td>\n",
       "      <td>0.036675</td>\n",
       "      <td>0.227384</td>\n",
       "      <td>0.119804</td>\n",
       "      <td>0.068460</td>\n",
       "      <td>0.017115</td>\n",
       "      <td>0.095355</td>\n",
       "      <td>0.058680</td>\n",
       "    </tr>\n",
       "    <tr>\n",
       "      <th>1850</th>\n",
       "      <td>0.004444</td>\n",
       "      <td>0.391111</td>\n",
       "      <td>0.011111</td>\n",
       "      <td>0.033333</td>\n",
       "      <td>0.188889</td>\n",
       "      <td>0.128889</td>\n",
       "      <td>0.057778</td>\n",
       "      <td>0.006667</td>\n",
       "      <td>0.120000</td>\n",
       "      <td>0.057778</td>\n",
       "    </tr>\n",
       "    <tr>\n",
       "      <th>1851</th>\n",
       "      <td>0.000000</td>\n",
       "      <td>0.376997</td>\n",
       "      <td>0.001597</td>\n",
       "      <td>0.031949</td>\n",
       "      <td>0.127796</td>\n",
       "      <td>0.108626</td>\n",
       "      <td>0.132588</td>\n",
       "      <td>0.019169</td>\n",
       "      <td>0.086262</td>\n",
       "      <td>0.115016</td>\n",
       "    </tr>\n",
       "    <tr>\n",
       "      <th>1852</th>\n",
       "      <td>0.123256</td>\n",
       "      <td>0.302326</td>\n",
       "      <td>0.004651</td>\n",
       "      <td>0.030233</td>\n",
       "      <td>0.105814</td>\n",
       "      <td>0.059302</td>\n",
       "      <td>0.117442</td>\n",
       "      <td>0.010465</td>\n",
       "      <td>0.102326</td>\n",
       "      <td>0.144186</td>\n",
       "    </tr>\n",
       "    <tr>\n",
       "      <th>1853</th>\n",
       "      <td>0.189125</td>\n",
       "      <td>0.288416</td>\n",
       "      <td>0.004728</td>\n",
       "      <td>0.020489</td>\n",
       "      <td>0.085894</td>\n",
       "      <td>0.062254</td>\n",
       "      <td>0.104807</td>\n",
       "      <td>0.017336</td>\n",
       "      <td>0.076438</td>\n",
       "      <td>0.150512</td>\n",
       "    </tr>\n",
       "    <tr>\n",
       "      <th>1854</th>\n",
       "      <td>0.187114</td>\n",
       "      <td>0.267992</td>\n",
       "      <td>0.004112</td>\n",
       "      <td>0.025360</td>\n",
       "      <td>0.080877</td>\n",
       "      <td>0.064428</td>\n",
       "      <td>0.124743</td>\n",
       "      <td>0.015079</td>\n",
       "      <td>0.064428</td>\n",
       "      <td>0.165867</td>\n",
       "    </tr>\n",
       "    <tr>\n",
       "      <th>1855</th>\n",
       "      <td>0.015422</td>\n",
       "      <td>0.374188</td>\n",
       "      <td>0.000812</td>\n",
       "      <td>0.026786</td>\n",
       "      <td>0.117695</td>\n",
       "      <td>0.072240</td>\n",
       "      <td>0.103896</td>\n",
       "      <td>0.019481</td>\n",
       "      <td>0.125000</td>\n",
       "      <td>0.144481</td>\n",
       "    </tr>\n",
       "    <tr>\n",
       "      <th>1856</th>\n",
       "      <td>0.137017</td>\n",
       "      <td>0.293717</td>\n",
       "      <td>0.000000</td>\n",
       "      <td>0.025738</td>\n",
       "      <td>0.125662</td>\n",
       "      <td>0.074186</td>\n",
       "      <td>0.118092</td>\n",
       "      <td>0.016654</td>\n",
       "      <td>0.133989</td>\n",
       "      <td>0.074943</td>\n",
       "    </tr>\n",
       "    <tr>\n",
       "      <th>1857</th>\n",
       "      <td>0.137052</td>\n",
       "      <td>0.252066</td>\n",
       "      <td>0.000000</td>\n",
       "      <td>0.033747</td>\n",
       "      <td>0.116391</td>\n",
       "      <td>0.056474</td>\n",
       "      <td>0.088154</td>\n",
       "      <td>0.033058</td>\n",
       "      <td>0.144628</td>\n",
       "      <td>0.138430</td>\n",
       "    </tr>\n",
       "    <tr>\n",
       "      <th>1858</th>\n",
       "      <td>0.131186</td>\n",
       "      <td>0.263943</td>\n",
       "      <td>0.000786</td>\n",
       "      <td>0.045562</td>\n",
       "      <td>0.162608</td>\n",
       "      <td>0.062844</td>\n",
       "      <td>0.077769</td>\n",
       "      <td>0.036921</td>\n",
       "      <td>0.089552</td>\n",
       "      <td>0.128830</td>\n",
       "    </tr>\n",
       "    <tr>\n",
       "      <th>1859</th>\n",
       "      <td>0.132675</td>\n",
       "      <td>0.213832</td>\n",
       "      <td>0.000000</td>\n",
       "      <td>0.040226</td>\n",
       "      <td>0.136203</td>\n",
       "      <td>0.052929</td>\n",
       "      <td>0.103035</td>\n",
       "      <td>0.055046</td>\n",
       "      <td>0.107269</td>\n",
       "      <td>0.158786</td>\n",
       "    </tr>\n",
       "    <tr>\n",
       "      <th>1860</th>\n",
       "      <td>0.136767</td>\n",
       "      <td>0.207815</td>\n",
       "      <td>0.048549</td>\n",
       "      <td>0.042629</td>\n",
       "      <td>0.114861</td>\n",
       "      <td>0.042037</td>\n",
       "      <td>0.065719</td>\n",
       "      <td>0.071048</td>\n",
       "      <td>0.114861</td>\n",
       "      <td>0.155713</td>\n",
       "    </tr>\n",
       "    <tr>\n",
       "      <th>1861</th>\n",
       "      <td>0.161795</td>\n",
       "      <td>0.244052</td>\n",
       "      <td>0.046227</td>\n",
       "      <td>0.054385</td>\n",
       "      <td>0.128484</td>\n",
       "      <td>0.059143</td>\n",
       "      <td>0.046227</td>\n",
       "      <td>0.064582</td>\n",
       "      <td>0.097893</td>\n",
       "      <td>0.097213</td>\n",
       "    </tr>\n",
       "    <tr>\n",
       "      <th>1862</th>\n",
       "      <td>0.130650</td>\n",
       "      <td>0.234056</td>\n",
       "      <td>0.072446</td>\n",
       "      <td>0.051393</td>\n",
       "      <td>0.125697</td>\n",
       "      <td>0.042105</td>\n",
       "      <td>0.059443</td>\n",
       "      <td>0.053870</td>\n",
       "      <td>0.082972</td>\n",
       "      <td>0.147368</td>\n",
       "    </tr>\n",
       "    <tr>\n",
       "      <th>1863</th>\n",
       "      <td>0.133537</td>\n",
       "      <td>0.222222</td>\n",
       "      <td>0.078491</td>\n",
       "      <td>0.074414</td>\n",
       "      <td>0.150866</td>\n",
       "      <td>0.029562</td>\n",
       "      <td>0.036697</td>\n",
       "      <td>0.063201</td>\n",
       "      <td>0.099898</td>\n",
       "      <td>0.111111</td>\n",
       "    </tr>\n",
       "    <tr>\n",
       "      <th>1864</th>\n",
       "      <td>0.141369</td>\n",
       "      <td>0.238839</td>\n",
       "      <td>0.076637</td>\n",
       "      <td>0.055804</td>\n",
       "      <td>0.145089</td>\n",
       "      <td>0.041667</td>\n",
       "      <td>0.032738</td>\n",
       "      <td>0.083333</td>\n",
       "      <td>0.084821</td>\n",
       "      <td>0.099702</td>\n",
       "    </tr>\n",
       "    <tr>\n",
       "      <th>1865</th>\n",
       "      <td>0.105359</td>\n",
       "      <td>0.228380</td>\n",
       "      <td>0.066382</td>\n",
       "      <td>0.040195</td>\n",
       "      <td>0.124848</td>\n",
       "      <td>0.041413</td>\n",
       "      <td>0.057247</td>\n",
       "      <td>0.089525</td>\n",
       "      <td>0.072473</td>\n",
       "      <td>0.174178</td>\n",
       "    </tr>\n",
       "    <tr>\n",
       "      <th>1866</th>\n",
       "      <td>0.131658</td>\n",
       "      <td>0.239976</td>\n",
       "      <td>0.100539</td>\n",
       "      <td>0.035308</td>\n",
       "      <td>0.139437</td>\n",
       "      <td>0.039497</td>\n",
       "      <td>0.039497</td>\n",
       "      <td>0.082585</td>\n",
       "      <td>0.074207</td>\n",
       "      <td>0.117295</td>\n",
       "    </tr>\n",
       "    <tr>\n",
       "      <th>1867</th>\n",
       "      <td>0.128619</td>\n",
       "      <td>0.255568</td>\n",
       "      <td>0.091314</td>\n",
       "      <td>0.032851</td>\n",
       "      <td>0.112472</td>\n",
       "      <td>0.027283</td>\n",
       "      <td>0.001670</td>\n",
       "      <td>0.145880</td>\n",
       "      <td>0.048441</td>\n",
       "      <td>0.155902</td>\n",
       "    </tr>\n",
       "    <tr>\n",
       "      <th>1868</th>\n",
       "      <td>0.131805</td>\n",
       "      <td>0.293410</td>\n",
       "      <td>0.091691</td>\n",
       "      <td>0.033238</td>\n",
       "      <td>0.107736</td>\n",
       "      <td>0.020057</td>\n",
       "      <td>0.001719</td>\n",
       "      <td>0.120344</td>\n",
       "      <td>0.051003</td>\n",
       "      <td>0.148997</td>\n",
       "    </tr>\n",
       "    <tr>\n",
       "      <th>1869</th>\n",
       "      <td>0.157834</td>\n",
       "      <td>0.288018</td>\n",
       "      <td>0.077189</td>\n",
       "      <td>0.034562</td>\n",
       "      <td>0.095622</td>\n",
       "      <td>0.021889</td>\n",
       "      <td>0.000576</td>\n",
       "      <td>0.169355</td>\n",
       "      <td>0.055876</td>\n",
       "      <td>0.099078</td>\n",
       "    </tr>\n",
       "    <tr>\n",
       "      <th>1870</th>\n",
       "      <td>0.118982</td>\n",
       "      <td>0.297731</td>\n",
       "      <td>0.063641</td>\n",
       "      <td>0.034864</td>\n",
       "      <td>0.069729</td>\n",
       "      <td>0.037078</td>\n",
       "      <td>0.000000</td>\n",
       "      <td>0.168235</td>\n",
       "      <td>0.065302</td>\n",
       "      <td>0.144438</td>\n",
       "    </tr>\n",
       "    <tr>\n",
       "      <th>1872</th>\n",
       "      <td>0.127591</td>\n",
       "      <td>0.324275</td>\n",
       "      <td>0.077844</td>\n",
       "      <td>0.040534</td>\n",
       "      <td>0.062183</td>\n",
       "      <td>0.027637</td>\n",
       "      <td>0.000000</td>\n",
       "      <td>0.159834</td>\n",
       "      <td>0.045601</td>\n",
       "      <td>0.134500</td>\n",
       "    </tr>\n",
       "    <tr>\n",
       "      <th>1873</th>\n",
       "      <td>0.131317</td>\n",
       "      <td>0.334714</td>\n",
       "      <td>0.065037</td>\n",
       "      <td>0.041839</td>\n",
       "      <td>0.061309</td>\n",
       "      <td>0.024441</td>\n",
       "      <td>0.000000</td>\n",
       "      <td>0.106048</td>\n",
       "      <td>0.055510</td>\n",
       "      <td>0.179785</td>\n",
       "    </tr>\n",
       "    <tr>\n",
       "      <th>1874</th>\n",
       "      <td>0.139060</td>\n",
       "      <td>0.439962</td>\n",
       "      <td>0.000475</td>\n",
       "      <td>0.046037</td>\n",
       "      <td>0.072615</td>\n",
       "      <td>0.029426</td>\n",
       "      <td>0.000000</td>\n",
       "      <td>0.091125</td>\n",
       "      <td>0.064547</td>\n",
       "      <td>0.116754</td>\n",
       "    </tr>\n",
       "    <tr>\n",
       "      <th>1875</th>\n",
       "      <td>0.151119</td>\n",
       "      <td>0.381173</td>\n",
       "      <td>0.000000</td>\n",
       "      <td>0.038413</td>\n",
       "      <td>0.081891</td>\n",
       "      <td>0.048966</td>\n",
       "      <td>0.000422</td>\n",
       "      <td>0.085690</td>\n",
       "      <td>0.059519</td>\n",
       "      <td>0.152807</td>\n",
       "    </tr>\n",
       "    <tr>\n",
       "      <th>1876</th>\n",
       "      <td>0.124501</td>\n",
       "      <td>0.385118</td>\n",
       "      <td>0.000726</td>\n",
       "      <td>0.056624</td>\n",
       "      <td>0.070054</td>\n",
       "      <td>0.048276</td>\n",
       "      <td>0.000000</td>\n",
       "      <td>0.092922</td>\n",
       "      <td>0.065336</td>\n",
       "      <td>0.156443</td>\n",
       "    </tr>\n",
       "    <tr>\n",
       "      <th>1877</th>\n",
       "      <td>0.122170</td>\n",
       "      <td>0.393475</td>\n",
       "      <td>0.001664</td>\n",
       "      <td>0.056258</td>\n",
       "      <td>0.058921</td>\n",
       "      <td>0.041611</td>\n",
       "      <td>0.000000</td>\n",
       "      <td>0.094208</td>\n",
       "      <td>0.056591</td>\n",
       "      <td>0.175100</td>\n",
       "    </tr>\n",
       "    <tr>\n",
       "      <th>1878</th>\n",
       "      <td>0.123718</td>\n",
       "      <td>0.417635</td>\n",
       "      <td>0.000342</td>\n",
       "      <td>0.055024</td>\n",
       "      <td>0.059467</td>\n",
       "      <td>0.029733</td>\n",
       "      <td>0.000000</td>\n",
       "      <td>0.076213</td>\n",
       "      <td>0.085099</td>\n",
       "      <td>0.152768</td>\n",
       "    </tr>\n",
       "    <tr>\n",
       "      <th>1879</th>\n",
       "      <td>0.120514</td>\n",
       "      <td>0.367139</td>\n",
       "      <td>0.000000</td>\n",
       "      <td>0.067172</td>\n",
       "      <td>0.053342</td>\n",
       "      <td>0.039183</td>\n",
       "      <td>0.000000</td>\n",
       "      <td>0.114587</td>\n",
       "      <td>0.099111</td>\n",
       "      <td>0.138953</td>\n",
       "    </tr>\n",
       "  </tbody>\n",
       "</table>\n",
       "</div>"
      ],
      "text/plain": [
       "occ_clean   boardinghouse  dressmaker  fancygds    grocer  milliner     nurse  \\\n",
       "validSince                                                                      \n",
       "1849             0.004890    0.369193  0.002445  0.036675  0.227384  0.119804   \n",
       "1850             0.004444    0.391111  0.011111  0.033333  0.188889  0.128889   \n",
       "1851             0.000000    0.376997  0.001597  0.031949  0.127796  0.108626   \n",
       "1852             0.123256    0.302326  0.004651  0.030233  0.105814  0.059302   \n",
       "1853             0.189125    0.288416  0.004728  0.020489  0.085894  0.062254   \n",
       "1854             0.187114    0.267992  0.004112  0.025360  0.080877  0.064428   \n",
       "1855             0.015422    0.374188  0.000812  0.026786  0.117695  0.072240   \n",
       "1856             0.137017    0.293717  0.000000  0.025738  0.125662  0.074186   \n",
       "1857             0.137052    0.252066  0.000000  0.033747  0.116391  0.056474   \n",
       "1858             0.131186    0.263943  0.000786  0.045562  0.162608  0.062844   \n",
       "1859             0.132675    0.213832  0.000000  0.040226  0.136203  0.052929   \n",
       "1860             0.136767    0.207815  0.048549  0.042629  0.114861  0.042037   \n",
       "1861             0.161795    0.244052  0.046227  0.054385  0.128484  0.059143   \n",
       "1862             0.130650    0.234056  0.072446  0.051393  0.125697  0.042105   \n",
       "1863             0.133537    0.222222  0.078491  0.074414  0.150866  0.029562   \n",
       "1864             0.141369    0.238839  0.076637  0.055804  0.145089  0.041667   \n",
       "1865             0.105359    0.228380  0.066382  0.040195  0.124848  0.041413   \n",
       "1866             0.131658    0.239976  0.100539  0.035308  0.139437  0.039497   \n",
       "1867             0.128619    0.255568  0.091314  0.032851  0.112472  0.027283   \n",
       "1868             0.131805    0.293410  0.091691  0.033238  0.107736  0.020057   \n",
       "1869             0.157834    0.288018  0.077189  0.034562  0.095622  0.021889   \n",
       "1870             0.118982    0.297731  0.063641  0.034864  0.069729  0.037078   \n",
       "1872             0.127591    0.324275  0.077844  0.040534  0.062183  0.027637   \n",
       "1873             0.131317    0.334714  0.065037  0.041839  0.061309  0.024441   \n",
       "1874             0.139060    0.439962  0.000475  0.046037  0.072615  0.029426   \n",
       "1875             0.151119    0.381173  0.000000  0.038413  0.081891  0.048966   \n",
       "1876             0.124501    0.385118  0.000726  0.056624  0.070054  0.048276   \n",
       "1877             0.122170    0.393475  0.001664  0.056258  0.058921  0.041611   \n",
       "1878             0.123718    0.417635  0.000342  0.055024  0.059467  0.029733   \n",
       "1879             0.120514    0.367139  0.000000  0.067172  0.053342  0.039183   \n",
       "\n",
       "occ_clean   seamstress    sewing   teacher   washing  \n",
       "validSince                                            \n",
       "1849          0.068460  0.017115  0.095355  0.058680  \n",
       "1850          0.057778  0.006667  0.120000  0.057778  \n",
       "1851          0.132588  0.019169  0.086262  0.115016  \n",
       "1852          0.117442  0.010465  0.102326  0.144186  \n",
       "1853          0.104807  0.017336  0.076438  0.150512  \n",
       "1854          0.124743  0.015079  0.064428  0.165867  \n",
       "1855          0.103896  0.019481  0.125000  0.144481  \n",
       "1856          0.118092  0.016654  0.133989  0.074943  \n",
       "1857          0.088154  0.033058  0.144628  0.138430  \n",
       "1858          0.077769  0.036921  0.089552  0.128830  \n",
       "1859          0.103035  0.055046  0.107269  0.158786  \n",
       "1860          0.065719  0.071048  0.114861  0.155713  \n",
       "1861          0.046227  0.064582  0.097893  0.097213  \n",
       "1862          0.059443  0.053870  0.082972  0.147368  \n",
       "1863          0.036697  0.063201  0.099898  0.111111  \n",
       "1864          0.032738  0.083333  0.084821  0.099702  \n",
       "1865          0.057247  0.089525  0.072473  0.174178  \n",
       "1866          0.039497  0.082585  0.074207  0.117295  \n",
       "1867          0.001670  0.145880  0.048441  0.155902  \n",
       "1868          0.001719  0.120344  0.051003  0.148997  \n",
       "1869          0.000576  0.169355  0.055876  0.099078  \n",
       "1870          0.000000  0.168235  0.065302  0.144438  \n",
       "1872          0.000000  0.159834  0.045601  0.134500  \n",
       "1873          0.000000  0.106048  0.055510  0.179785  \n",
       "1874          0.000000  0.091125  0.064547  0.116754  \n",
       "1875          0.000422  0.085690  0.059519  0.152807  \n",
       "1876          0.000000  0.092922  0.065336  0.156443  \n",
       "1877          0.000000  0.094208  0.056591  0.175100  \n",
       "1878          0.000000  0.076213  0.085099  0.152768  \n",
       "1879          0.000000  0.114587  0.099111  0.138953  "
      ]
     },
     "execution_count": 126,
     "metadata": {},
     "output_type": "execute_result"
    }
   ],
   "source": [
    "pivot_df_prop.T"
   ]
  },
  {
   "cell_type": "code",
   "execution_count": 127,
   "metadata": {},
   "outputs": [
    {
     "name": "stderr",
     "output_type": "stream",
     "text": [
      "/usr/local/Anaconda3-5.0.0-Linux-x86_64/envs/PUI2016_Python3/lib/python3.5/site-packages/matplotlib/cbook/deprecation.py:106: MatplotlibDeprecationWarning: The Vega20 colormap was deprecated in version 2.0. Use tab20 instead.\n",
      "  warnings.warn(message, mplDeprecation, stacklevel=1)\n",
      "/usr/local/Anaconda3-5.0.0-Linux-x86_64/envs/PUI2016_Python3/lib/python3.5/site-packages/matplotlib/figure.py:1999: UserWarning: This figure includes Axes that are not compatible with tight_layout, so results might be incorrect.\n",
      "  warnings.warn(\"This figure includes Axes that are not compatible \"\n"
     ]
    },
    {
     "data": {
      "image/png": "[encoded data removed]",
      "text/plain": [
       "<matplotlib.figure.Figure at 0x7fc7394480b8>"
      ]
     },
     "metadata": {},
     "output_type": "display_data"
    }
   ],
   "source": [
    "fig, ax =plt.subplots(figsize=(15,8))\n",
    "box = ax.get_position()\n",
    "\n",
    "pivot_df_prop.T.plot.bar(ax=ax,stacked=True,colormap='Vega20')\n",
    "ax.set_position([box.x0, box.y0 + box.height * 0.1,\n",
    "                 box.width, box.height * 0.9])\n",
    "ax.legend(loc='upper center', bbox_to_anchor=(0.5, -0.15),\n",
    "          fancybox=True, shadow=True, ncol=5,fontsize=14.0)\n",
    "plt.xticks(fontsize=14.0)\n",
    "plt.yticks(fontsize=14.0)\n",
    "\n",
    "plt.title('Proportion of top 10 occupations practiced by women', fontsize=15.0)\n",
    "plt.xlabel('Year',fontsize=14.0)\n",
    "plt.ylabel('Proportion of Women',fontsize=14.0)\n",
    "plt.savefig('genders_occupations_time.png')"
   ]
  },
  {
   "cell_type": "code",
   "execution_count": 128,
   "metadata": {},
   "outputs": [
    {
     "name": "stderr",
     "output_type": "stream",
     "text": [
      "/usr/local/Anaconda3-5.0.0-Linux-x86_64/envs/PUI2016_Python3/lib/python3.5/site-packages/matplotlib/cbook/deprecation.py:106: MatplotlibDeprecationWarning: The Vega20 colormap was deprecated in version 2.0. Use tab20 instead.\n",
      "  warnings.warn(message, mplDeprecation, stacklevel=1)\n",
      "/usr/local/Anaconda3-5.0.0-Linux-x86_64/envs/PUI2016_Python3/lib/python3.5/site-packages/matplotlib/figure.py:1999: UserWarning: This figure includes Axes that are not compatible with tight_layout, so results might be incorrect.\n",
      "  warnings.warn(\"This figure includes Axes that are not compatible \"\n"
     ]
    },
    {
     "data": {
      "image/png": "[encoded data removed]",
      "text/plain": [
       "<matplotlib.figure.Figure at 0x7fc73b5f1fd0>"
      ]
     },
     "metadata": {},
     "output_type": "display_data"
    }
   ],
   "source": [
    "from matplotlib import rcParams\n",
    "rcParams.update({'figure.autolayout': True})\n",
    "fig, ax =plt.subplots(figsize=(15,15))\n",
    "box = ax.get_position()\n",
    "\n",
    "pivot_df_race_prop.T.plot.bar(ax=ax,stacked=True,colormap='Vega20')\n",
    "ax.set_position([box.x0, box.y0 + box.height * 0.1,\n",
    "                 box.width, box.height * 0.9])\n",
    "ax.legend(loc='upper center', bbox_to_anchor=(0.5, -0.9),\n",
    "          fancybox=True, shadow=True, ncol=5,fontsize=14.0)\n",
    "plt.xticks(fontsize=18.0)\n",
    "plt.yticks(fontsize=18.0)\n",
    "\n",
    "plt.title('Proportion of top 10 occupations practiced by women with ethnicity', fontsize=15.0)\n",
    "plt.xlabel('Ethnicity',fontsize=16.0)\n",
    "plt.ylabel('Proportion of Women',fontsize=16.0)\n",
    "plt.savefig('genders_occupations_time_ethnicity_short.png')"
   ]
  },
  {
   "cell_type": "code",
   "execution_count": 129,
   "metadata": {},
   "outputs": [
    {
     "name": "stderr",
     "output_type": "stream",
     "text": [
      "/usr/local/Anaconda3-5.0.0-Linux-x86_64/envs/PUI2016_Python3/lib/python3.5/site-packages/matplotlib/cbook/deprecation.py:106: MatplotlibDeprecationWarning: The Vega20 colormap was deprecated in version 2.0. Use tab20 instead.\n",
      "  warnings.warn(message, mplDeprecation, stacklevel=1)\n",
      "/usr/local/Anaconda3-5.0.0-Linux-x86_64/envs/PUI2016_Python3/lib/python3.5/site-packages/matplotlib/figure.py:1999: UserWarning: This figure includes Axes that are not compatible with tight_layout, so results might be incorrect.\n",
      "  warnings.warn(\"This figure includes Axes that are not compatible \"\n"
     ]
    },
    {
     "data": {
      "image/png": "[encoded data removed]",
      "text/plain": [
       "<matplotlib.figure.Figure at 0x7fc7391adba8>"
      ]
     },
     "metadata": {},
     "output_type": "display_data"
    }
   ],
   "source": [
    "from matplotlib import rcParams\n",
    "rcParams.update({'figure.autolayout': True})\n",
    "fig, ax =plt.subplots(figsize=(15,15))\n",
    "box = ax.get_position()\n",
    "\n",
    "pivot_df_race_prop.T.plot.bar(ax=ax,stacked=True,colormap='Vega20')\n",
    "ax.set_position([box.x0, box.y0 + box.height * 0.1,\n",
    "                 box.width, box.height * 0.9])\n",
    "ax.legend(loc='upper center', bbox_to_anchor=(0.5, -0.9),\n",
    "          fancybox=True, shadow=True, ncol=5,fontsize=14.0)\n",
    "plt.xticks(fontsize=18.0)\n",
    "plt.yticks(fontsize=18.0)\n",
    "\n",
    "plt.title('Proportion of top 10 occupations practiced by women with ethnicity', fontsize=15.0)\n",
    "plt.xlabel('Ethnicity',fontsize=16.0)\n",
    "plt.ylabel('Proportion of Women',fontsize=16.0)\n",
    "plt.savefig('genders_occupations_time_ethnicity.png')"
   ]
  },
  {
   "cell_type": "code",
   "execution_count": 72,
   "metadata": {},
   "outputs": [],
   "source": [
    "males_eth = names_ethnicity[names_ethnicity['gender'] == 'male']"
   ]
  },
  {
   "cell_type": "code",
   "execution_count": 73,
   "metadata": {},
   "outputs": [
    {
     "name": "stderr",
     "output_type": "stream",
     "text": [
      "/usr/local/Anaconda3-5.0.0-Linux-x86_64/envs/PUI2016_Python3/lib/python3.5/site-packages/ipykernel/__main__.py:1: SettingWithCopyWarning: \n",
      "A value is trying to be set on a copy of a slice from a DataFrame\n",
      "\n",
      "See the caveats in the documentation: http://pandas.pydata.org/pandas-docs/stable/indexing.html#indexing-view-versus-copy\n",
      "  if __name__ == '__main__':\n"
     ]
    }
   ],
   "source": [
    "males_eth.dropna(inplace=True)"
   ]
  },
  {
   "cell_type": "code",
   "execution_count": 74,
   "metadata": {},
   "outputs": [
    {
     "name": "stderr",
     "output_type": "stream",
     "text": [
      "/usr/local/Anaconda3-5.0.0-Linux-x86_64/envs/PUI2016_Python3/lib/python3.5/site-packages/ipykernel/__main__.py:1: SettingWithCopyWarning: \n",
      "A value is trying to be set on a copy of a slice from a DataFrame.\n",
      "Try using .loc[row_indexer,col_indexer] = value instead\n",
      "\n",
      "See the caveats in the documentation: http://pandas.pydata.org/pandas-docs/stable/indexing.html#indexing-view-versus-copy\n",
      "  if __name__ == '__main__':\n"
     ]
    }
   ],
   "source": [
    "males_eth['occ_clean'] = males_eth['occupation'].astype('str').map(lambda x: re.sub('[^a-zA-Z]+', '', x))"
   ]
  },
  {
   "cell_type": "code",
   "execution_count": 75,
   "metadata": {},
   "outputs": [
    {
     "data": {
      "text/plain": [
       "<matplotlib.axes._subplots.AxesSubplot at 0x7fc7397cd240>"
      ]
     },
     "execution_count": 75,
     "metadata": {},
     "output_type": "execute_result"
    },
    {
     "name": "stderr",
     "output_type": "stream",
     "text": [
      "/usr/local/Anaconda3-5.0.0-Linux-x86_64/envs/PUI2016_Python3/lib/python3.5/site-packages/matplotlib/figure.py:1999: UserWarning: This figure includes Axes that are not compatible with tight_layout, so results might be incorrect.\n",
      "  warnings.warn(\"This figure includes Axes that are not compatible \"\n"
     ]
    },
    {
     "data": {
      "image/png": "[encoded data removed]",
      "text/plain": [
       "<matplotlib.figure.Figure at 0x7fc7397cbac8>"
      ]
     },
     "metadata": {},
     "output_type": "display_data"
    }
   ],
   "source": [
    "males_eth[['occ_clean', 'gender']].groupby(['occ_clean']).count().sort_values('gender',ascending=False)[0:10].plot(kind='bar')"
   ]
  },
  {
   "cell_type": "code",
   "execution_count": 90,
   "metadata": {},
   "outputs": [
    {
     "name": "stderr",
     "output_type": "stream",
     "text": [
      "/usr/local/Anaconda3-5.0.0-Linux-x86_64/envs/PUI2016_Python3/lib/python3.5/site-packages/ipykernel/__main__.py:1: SettingWithCopyWarning: \n",
      "A value is trying to be set on a copy of a slice from a DataFrame.\n",
      "Try using .loc[row_indexer,col_indexer] = value instead\n",
      "\n",
      "See the caveats in the documentation: http://pandas.pydata.org/pandas-docs/stable/indexing.html#indexing-view-versus-copy\n",
      "  if __name__ == '__main__':\n"
     ]
    }
   ],
   "source": [
    "males_eth['occ_clean'] = males_eth['occ_clean'].str.replace('merchantchant', 'merchant')"
   ]
  },
  {
   "cell_type": "code",
   "execution_count": 91,
   "metadata": {},
   "outputs": [],
   "source": [
    "top10_occupations = males_eth[['occ_clean', 'gender']].groupby(['occ_clean']).count().sort_values('gender',ascending=False)[0:10].index.tolist()"
   ]
  },
  {
   "cell_type": "code",
   "execution_count": 92,
   "metadata": {},
   "outputs": [
    {
     "data": {
      "text/plain": [
       "['laborer',\n",
       " 'clerk',\n",
       " 'tailor',\n",
       " 'carpenter',\n",
       " 'grocer',\n",
       " 'merchant',\n",
       " 'carman',\n",
       " 'liquors',\n",
       " 'driver',\n",
       " 'lawyer']"
      ]
     },
     "execution_count": 92,
     "metadata": {},
     "output_type": "execute_result"
    }
   ],
   "source": [
    "top10_occupations"
   ]
  },
  {
   "cell_type": "code",
   "execution_count": 93,
   "metadata": {},
   "outputs": [],
   "source": [
    "males_top10 = males_eth[males_eth['occ_clean'].isin(top10_occupations)]"
   ]
  },
  {
   "cell_type": "code",
   "execution_count": 94,
   "metadata": {},
   "outputs": [],
   "source": [
    "occ_gb_year_males = males_top10[['occ_clean','validSince','gender']].groupby(['occ_clean','validSince']).count()\n",
    "occ_gb_year_males_race = males_top10[['occ_clean','validSince','race']].groupby(['occ_clean','race']).count()"
   ]
  },
  {
   "cell_type": "code",
   "execution_count": 95,
   "metadata": {},
   "outputs": [],
   "source": [
    "occ_gb_year_males.reset_index(inplace=True)\n",
    "occ_gb_year_males_race.reset_index(inplace=True)"
   ]
  },
  {
   "cell_type": "code",
   "execution_count": 96,
   "metadata": {},
   "outputs": [],
   "source": [
    "pivot_df_males = occ_gb_year_males.pivot(columns='validSince', index='occ_clean', values='gender')\n",
    "pivot_df_males_race = occ_gb_year_males_race.pivot(columns='race', index='occ_clean', values='validSince')"
   ]
  },
  {
   "cell_type": "code",
   "execution_count": 97,
   "metadata": {},
   "outputs": [],
   "source": [
    "pivot_df_males_race.rename(columns = {'Asian,GreaterEastAsian,EastAsian' : 'EastAsian',\n",
    "                                'Asian,GreaterEastAsian,Japanese' : 'Japanese',\n",
    "                                'Asian,IndianSubContinent' : 'IndianSubcontinent',\n",
    "                               'GreaterAfrican,Africans' : 'Africans',\n",
    "                               'GreaterEuropean,British' : 'British',\n",
    "                               'GreaterEuropean,EastEuropean' : 'EastEuropean',\n",
    "                               'GreaterEuropean,Jewish' : 'Jewish',\n",
    "                               'GreaterEuropean,WestEuropean,French' : 'French',\n",
    "                               'GreaterEuropean,WestEuropean,Germanic' : 'Germanic',\n",
    "                               'GreaterEuropean,WestEuropean,Hispanic' : 'Hispanic',\n",
    "                               'GreaterEuropean,WestEuropean,Italian' : 'Italian',\n",
    "                               'GreaterEuropean,WestEuropean,Nordic' : 'Nordic'},inplace=True )"
   ]
  },
  {
   "cell_type": "code",
   "execution_count": 98,
   "metadata": {},
   "outputs": [],
   "source": [
    "pivot_df_males_race.fillna(0,inplace=True)\n",
    "pivot_df_males.fillna(0,inplace=True)"
   ]
  },
  {
   "cell_type": "code",
   "execution_count": 99,
   "metadata": {},
   "outputs": [],
   "source": [
    "pivot_df_males_prop = pivot_df_males / pivot_df_males.sum(axis = 0)\n",
    "pivot_df_males_race_prop = pivot_df_males_race / pivot_df_males_race.sum(axis = 0)"
   ]
  },
  {
   "cell_type": "code",
   "execution_count": 100,
   "metadata": {},
   "outputs": [
    {
     "name": "stderr",
     "output_type": "stream",
     "text": [
      "/usr/local/Anaconda3-5.0.0-Linux-x86_64/envs/PUI2016_Python3/lib/python3.5/site-packages/matplotlib/figure.py:1999: UserWarning: This figure includes Axes that are not compatible with tight_layout, so results might be incorrect.\n",
      "  warnings.warn(\"This figure includes Axes that are not compatible \"\n"
     ]
    },
    {
     "data": {
      "image/png": "[encoded data removed]",
      "text/plain": [
       "<matplotlib.figure.Figure at 0x7fc739b31128>"
      ]
     },
     "metadata": {},
     "output_type": "display_data"
    }
   ],
   "source": [
    "fig, ax =plt.subplots(figsize=(15,8))\n",
    "box = ax.get_position()\n",
    "\n",
    "pivot_df_males_prop.T.plot.bar(ax=ax,stacked=True,colormap='tab10')\n",
    "ax.set_position([box.x0, box.y0 + box.height * 0.1,\n",
    "                 box.width, box.height * 0.9])\n",
    "ax.legend(loc='upper center', bbox_to_anchor=(0.5, -0.15),\n",
    "          fancybox=True, shadow=True, ncol=5,fontsize=14.0)\n",
    "plt.xticks(fontsize=14.0)\n",
    "plt.yticks(fontsize=14.0)\n",
    "\n",
    "plt.title('Proportion of top 10 occupations practiced by men', fontsize=15.0)\n",
    "plt.xlabel('Year',fontsize=14.0)\n",
    "plt.ylabel('Proportion of Men',fontsize=14.0)\n",
    "plt.savefig('genders_occupations_time_male.png')"
   ]
  },
  {
   "cell_type": "code",
   "execution_count": 102,
   "metadata": {},
   "outputs": [
    {
     "name": "stderr",
     "output_type": "stream",
     "text": [
      "/usr/local/Anaconda3-5.0.0-Linux-x86_64/envs/PUI2016_Python3/lib/python3.5/site-packages/matplotlib/figure.py:1999: UserWarning: This figure includes Axes that are not compatible with tight_layout, so results might be incorrect.\n",
      "  warnings.warn(\"This figure includes Axes that are not compatible \"\n"
     ]
    },
    {
     "data": {
      "image/png": "[encoded data removed]",
      "text/plain": [
       "<matplotlib.figure.Figure at 0x7fc739387cf8>"
      ]
     },
     "metadata": {},
     "output_type": "display_data"
    }
   ],
   "source": [
    "from matplotlib import rcParams\n",
    "rcParams.update({'figure.autolayout': True})\n",
    "fig, ax =plt.subplots(figsize=(15,15))\n",
    "box = ax.get_position()\n",
    "\n",
    "pivot_df_males_race_prop.T.plot.bar(ax=ax,stacked=True,colormap='tab10')\n",
    "ax.set_position([box.x0, box.y0 + box.height * 0.1,\n",
    "                 box.width, box.height * 0.9])\n",
    "ax.legend(loc='upper center', bbox_to_anchor=(0.5, -0.9),\n",
    "          fancybox=True, shadow=True, ncol=5,fontsize=14.0)\n",
    "plt.xticks(fontsize=18.0)\n",
    "plt.yticks(fontsize=18.0)\n",
    "\n",
    "plt.title('Proportion of top 10 occupations practiced by men with ethnicity', fontsize=15.0)\n",
    "plt.xlabel('Ethnicity',fontsize=16.0)\n",
    "plt.ylabel('Proportion of Men',fontsize=16.0)\n",
    "plt.savefig('genders_occupations_time_ethnicity_male.png')"
   ]
  },
  {
   "cell_type": "code",
   "execution_count": null,
   "metadata": {},
   "outputs": [],
   "source": []
  }
 ],
 "metadata": {
  "kernelspec": {
   "display_name": "PUI2016_Python3",
   "language": "python",
   "name": "pui2016_python3"
  },
  "language_info": {
   "codemirror_mode": {
    "name": "ipython",
    "version": 3
   },
   "file_extension": ".py",
   "mimetype": "text/x-python",
   "name": "python",
   "nbconvert_exporter": "python",
   "pygments_lexer": "ipython3",
   "version": "3.5.4"
  }
 },
 "nbformat": 4,
 "nbformat_minor": 2
}
